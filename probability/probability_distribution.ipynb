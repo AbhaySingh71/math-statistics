{
  "nbformat": 4,
  "nbformat_minor": 0,
  "metadata": {
    "colab": {
      "provenance": [],
      "include_colab_link": true
    },
    "kernelspec": {
      "name": "python3",
      "display_name": "Python 3"
    },
    "language_info": {
      "name": "python"
    }
  },
  "cells": [
    {
      "cell_type": "markdown",
      "metadata": {
        "id": "view-in-github",
        "colab_type": "text"
      },
      "source": [
        "<a href=\"https://colab.research.google.com/github/AbhaySingh71/math-statistics/blob/main/probability/probability_distribution.ipynb\" target=\"_parent\"><img src=\"https://colab.research.google.com/assets/colab-badge.svg\" alt=\"Open In Colab\"/></a>"
      ]
    },
    {
      "cell_type": "code",
      "source": [
        "#using Bayes's Theorem in python\n",
        "P_coffee_drinker = .65\n",
        "p_cancer = .005\n",
        "p_coffee_drinker_given_cancer = .85\n",
        "\n",
        "# Fix: Use the correct variable name here\n",
        "p_cancer_given_coffee_drinker = p_coffee_drinker_given_cancer * p_cancer / P_coffee_drinker\n",
        "\n",
        "print(p_cancer_given_coffee_drinker)"
      ],
      "metadata": {
        "colab": {
          "base_uri": "https://localhost:8080/"
        },
        "id": "J4tJDN3y_EJ_",
        "outputId": "6c429584-5598-49a3-afef-bca399429a3e"
      },
      "execution_count": 1,
      "outputs": [
        {
          "output_type": "stream",
          "name": "stdout",
          "text": [
            "0.006538461538461539\n"
          ]
        }
      ]
    },
    {
      "cell_type": "code",
      "source": [
        "# using scipy for the binomal distribution\n",
        "\n",
        "from scipy.stats import binom\n",
        "\n",
        "n = 10\n",
        "p = 0.9\n",
        "\n",
        "for k in range (n+1):\n",
        "    probability = binom.pmf(k,n,p)\n",
        "    print(\"{0} -{1}\".format(k,probability))"
      ],
      "metadata": {
        "colab": {
          "base_uri": "https://localhost:8080/"
        },
        "id": "GFO2prw8_Bi0",
        "outputId": "8313dd64-e407-4853-c4e8-0a9bed7a73a1"
      },
      "execution_count": 2,
      "outputs": [
        {
          "output_type": "stream",
          "name": "stdout",
          "text": [
            "0 -9.999999999999977e-11\n",
            "1 -8.999999999999978e-09\n",
            "2 -3.6449999999999943e-07\n",
            "3 -8.747999999999991e-06\n",
            "4 -0.00013778099999999974\n",
            "5 -0.0014880347999999982\n",
            "6 -0.011160260999999996\n",
            "7 -0.05739562799999997\n",
            "8 -0.1937102444999998\n",
            "9 -0.38742048899999976\n",
            "10 -0.3486784401000001\n"
          ]
        }
      ]
    },
    {
      "cell_type": "code",
      "source": [
        "# beta distribution using scipy\n",
        "\n",
        "from scipy.stats import beta\n",
        "a=8\n",
        "b= 2\n",
        "p= beta.cdf(.90,a,b)\n",
        "print(p)"
      ],
      "metadata": {
        "colab": {
          "base_uri": "https://localhost:8080/"
        },
        "id": "UhOg0iGu-_aj",
        "outputId": "0a7fc98b-9105-42b4-fb0a-c0b71253c519"
      },
      "execution_count": 3,
      "outputs": [
        {
          "output_type": "stream",
          "name": "stdout",
          "text": [
            "0.7748409780000002\n"
          ]
        }
      ]
    },
    {
      "cell_type": "code",
      "source": [
        "# subtracting to get a right area in a beta distribution\n",
        "from scipy.stats import beta\n",
        "a=8\n",
        "b= 2\n",
        "p= 1.0 - beta.cdf(.90,a,b)\n",
        "print(p)\n",
        "\n",
        "print(\"\")\n",
        "# a beta distribution with more trials\n",
        "q=30\n",
        "r=6\n",
        "h=1.0 - beta.cdf(.90,q,r)\n",
        "print(h)"
      ],
      "metadata": {
        "colab": {
          "base_uri": "https://localhost:8080/"
        },
        "id": "fNLJyCvd-6ps",
        "outputId": "857971b8-c15a-46c8-f3ff-d8fae7914af2"
      },
      "execution_count": 4,
      "outputs": [
        {
          "output_type": "stream",
          "name": "stdout",
          "text": [
            "0.22515902199999982\n",
            "\n",
            "0.13163577484183697\n"
          ]
        }
      ]
    },
    {
      "cell_type": "code",
      "source": [
        "# obtaining the area between 80 and 90\n",
        "# beta distribution middle area using scipy\n",
        "beta.cdf(.90,a,b) - beta.cdf(.80,a,b)"
      ],
      "metadata": {
        "colab": {
          "base_uri": "https://localhost:8080/"
        },
        "id": "-7XrpkPG-zPr",
        "outputId": "d1e0b9c2-406c-40de-c40e-08eba31f4517"
      },
      "execution_count": 5,
      "outputs": [
        {
          "output_type": "execute_result",
          "data": {
            "text/plain": [
              "0.33863336199999994"
            ]
          },
          "metadata": {},
          "execution_count": 5
        }
      ]
    },
    {
      "cell_type": "code",
      "execution_count": null,
      "metadata": {
        "id": "MmM05kz9gXa8"
      },
      "outputs": [],
      "source": [
        "import pandas as pd"
      ]
    },
    {
      "cell_type": "code",
      "source": [
        "import random"
      ],
      "metadata": {
        "id": "7l-cH_-2EBwq"
      },
      "execution_count": null,
      "outputs": []
    },
    {
      "cell_type": "code",
      "source": [
        "L = []\n",
        "for i in range(10000):\n",
        "  a = random.randint(1,6)\n",
        "  b = random.randint(1,6)\n",
        "\n",
        "  L.append(a + b)"
      ],
      "metadata": {
        "id": "5cs55cwNEB1L"
      },
      "execution_count": null,
      "outputs": []
    },
    {
      "cell_type": "code",
      "source": [
        "len(L)"
      ],
      "metadata": {
        "colab": {
          "base_uri": "https://localhost:8080/"
        },
        "id": "2620ZC8FEB5k",
        "outputId": "7a07d68a-cd59-474b-e841-12b70fc00a5b"
      },
      "execution_count": null,
      "outputs": [
        {
          "output_type": "execute_result",
          "data": {
            "text/plain": [
              "10000"
            ]
          },
          "metadata": {},
          "execution_count": 75
        }
      ]
    },
    {
      "cell_type": "code",
      "source": [
        "L[:5]"
      ],
      "metadata": {
        "colab": {
          "base_uri": "https://localhost:8080/"
        },
        "id": "qUA2MblvEB7x",
        "outputId": "25557f47-b7a9-406b-8b2f-48ff63304486"
      },
      "execution_count": null,
      "outputs": [
        {
          "output_type": "execute_result",
          "data": {
            "text/plain": [
              "[7, 10, 2, 10, 6]"
            ]
          },
          "metadata": {},
          "execution_count": 76
        }
      ]
    },
    {
      "cell_type": "code",
      "source": [
        "s = (pd.Series(L).value_counts()/pd.Series(L).value_counts().sum()).sort_index()"
      ],
      "metadata": {
        "id": "Hu76YIbdEB-E"
      },
      "execution_count": null,
      "outputs": []
    },
    {
      "cell_type": "code",
      "source": [
        "import numpy as np\n",
        "np.cumsum(s)"
      ],
      "metadata": {
        "colab": {
          "base_uri": "https://localhost:8080/"
        },
        "id": "ydYmwefR_F3R",
        "outputId": "0a52a761-815d-4245-ac02-226aa42092a3"
      },
      "execution_count": null,
      "outputs": [
        {
          "output_type": "execute_result",
          "data": {
            "text/plain": [
              "2     0.0304\n",
              "3     0.0852\n",
              "4     0.1651\n",
              "5     0.2762\n",
              "6     0.4192\n",
              "7     0.5879\n",
              "8     0.7289\n",
              "9     0.8375\n",
              "10    0.9190\n",
              "11    0.9743\n",
              "12    1.0000\n",
              "dtype: float64"
            ]
          },
          "metadata": {},
          "execution_count": 80
        }
      ]
    },
    {
      "cell_type": "code",
      "source": [
        "s.plot(kind='bar')"
      ],
      "metadata": {
        "colab": {
          "base_uri": "https://localhost:8080/",
          "height": 285
        },
        "id": "Sh5gkLeLECAh",
        "outputId": "75c4eae6-60f1-4f3e-f93a-8ce9dba8110a"
      },
      "execution_count": null,
      "outputs": [
        {
          "output_type": "execute_result",
          "data": {
            "text/plain": [
              "<AxesSubplot:>"
            ]
          },
          "metadata": {},
          "execution_count": 79
        },
        {
          "output_type": "display_data",
          "data": {
            "text/plain": [
              "<Figure size 432x288 with 1 Axes>"
            ],
            "image/png": "[encoded data removed]"
          },
          "metadata": {
            "needs_background": "light"
          }
        }
      ]
    },
    {
      "cell_type": "code",
      "source": [
        "np.cumsum(s).plot(kind='bar')"
      ],
      "metadata": {
        "colab": {
          "base_uri": "https://localhost:8080/",
          "height": 285
        },
        "id": "FnuC_aQS-hx7",
        "outputId": "329d4d56-a5a0-4c6f-b8a0-a16d2a9d33ce"
      },
      "execution_count": null,
      "outputs": [
        {
          "output_type": "execute_result",
          "data": {
            "text/plain": [
              "<AxesSubplot:>"
            ]
          },
          "metadata": {},
          "execution_count": 81
        },
        {
          "output_type": "display_data",
          "data": {
            "text/plain": [
              "<Figure size 432x288 with 1 Axes>"
            ],
            "image/png": "[encoded data removed]"
          },
          "metadata": {
            "needs_background": "light"
          }
        }
      ]
    },
    {
      "cell_type": "markdown",
      "source": [
        "# Parametric Density Estimation"
      ],
      "metadata": {
        "id": "wwfm9K_sDL1M"
      }
    },
    {
      "cell_type": "code",
      "source": [
        "import matplotlib.pyplot as plt\n",
        "import numpy as np\n",
        "from numpy.random import normal\n",
        "\n",
        "sample = normal(loc=50, scale=5,size=1000)"
      ],
      "metadata": {
        "id": "Pj2zd24bDQnC"
      },
      "execution_count": null,
      "outputs": []
    },
    {
      "cell_type": "code",
      "source": [
        "sample.mean()"
      ],
      "metadata": {
        "colab": {
          "base_uri": "https://localhost:8080/"
        },
        "id": "_rEna39pIYVI",
        "outputId": "da1fb9f3-da69-4714-92a3-fad89318691e"
      },
      "execution_count": null,
      "outputs": [
        {
          "output_type": "execute_result",
          "data": {
            "text/plain": [
              "50.03089373243247"
            ]
          },
          "metadata": {},
          "execution_count": 94
        }
      ]
    },
    {
      "cell_type": "code",
      "source": [
        "# plot histogram to understand the distribution of data\n",
        "plt.hist(sample,bins=10)"
      ],
      "metadata": {
        "colab": {
          "base_uri": "https://localhost:8080/",
          "height": 352
        },
        "id": "M6dGCQ1i4QTM",
        "outputId": "dd86b9e9-df29-4f5d-ef31-3f894151c16c"
      },
      "execution_count": null,
      "outputs": [
        {
          "output_type": "execute_result",
          "data": {
            "text/plain": [
              "(array([  5.,  23.,  91., 170., 270., 249., 140.,  43.,   8.,   1.]),\n",
              " array([33.05302216, 36.61930009, 40.18557801, 43.75185594, 47.31813387,\n",
              "        50.8844118 , 54.45068973, 58.01696766, 61.58324559, 65.14952352,\n",
              "        68.71580144]),\n",
              " <BarContainer object of 10 artists>)"
            ]
          },
          "metadata": {},
          "execution_count": 95
        },
        {
          "output_type": "display_data",
          "data": {
            "text/plain": [
              "<Figure size 432x288 with 1 Axes>"
            ],
            "image/png": "[encoded data removed]"
          },
          "metadata": {
            "needs_background": "light"
          }
        }
      ]
    },
    {
      "cell_type": "code",
      "source": [
        "# calculate sample mean and sample std dev\n",
        "sample_mean = sample.mean()\n",
        "sample_std = sample.std()"
      ],
      "metadata": {
        "id": "X-v35mzRgjZ3"
      },
      "execution_count": null,
      "outputs": []
    },
    {
      "cell_type": "code",
      "source": [
        "# fit the distribution with the above parameters\n",
        "\n",
        "from scipy.stats import norm\n",
        "dist = norm(60, 12)"
      ],
      "metadata": {
        "id": "5ur02_Xng9WR"
      },
      "execution_count": null,
      "outputs": []
    },
    {
      "cell_type": "code",
      "source": [
        "values = np.linspace(sample.min(),sample.max(),100)"
      ],
      "metadata": {
        "id": "hlcOo447hkFR"
      },
      "execution_count": null,
      "outputs": []
    },
    {
      "cell_type": "code",
      "source": [
        "sample.max()"
      ],
      "metadata": {
        "colab": {
          "base_uri": "https://localhost:8080/"
        },
        "id": "BvZ48Ud_JGRu",
        "outputId": "29a09a40-6a37-48b4-9c45-289f648978cf"
      },
      "execution_count": null,
      "outputs": [
        {
          "output_type": "execute_result",
          "data": {
            "text/plain": [
              "68.71580144383803"
            ]
          },
          "metadata": {},
          "execution_count": 100
        }
      ]
    },
    {
      "cell_type": "code",
      "source": [
        "probabilities = [dist.pdf(value) for value in values]"
      ],
      "metadata": {
        "id": "qOQvG9dqh_bd"
      },
      "execution_count": null,
      "outputs": []
    },
    {
      "cell_type": "code",
      "source": [
        "# plot the histogram and pdf\n",
        "plt.hist(sample,bins=10,density=True)\n",
        "plt.plot(values,probabilities)"
      ],
      "metadata": {
        "colab": {
          "base_uri": "https://localhost:8080/",
          "height": 282
        },
        "id": "qh2YfPFXiJ8x",
        "outputId": "302b0092-460e-413f-f832-993b84da70b6"
      },
      "execution_count": null,
      "outputs": [
        {
          "output_type": "execute_result",
          "data": {
            "text/plain": [
              "[<matplotlib.lines.Line2D at 0x7f41e713d640>]"
            ]
          },
          "metadata": {},
          "execution_count": 108
        },
        {
          "output_type": "display_data",
          "data": {
            "text/plain": [
              "<Figure size 432x288 with 1 Axes>"
            ],
            "image/png": "[encoded data removed]"
          },
          "metadata": {
            "needs_background": "light"
          }
        }
      ]
    },
    {
      "cell_type": "code",
      "source": [
        "import seaborn as sns\n",
        "sns.distplot(sample)"
      ],
      "metadata": {
        "colab": {
          "base_uri": "https://localhost:8080/",
          "height": 337
        },
        "id": "3TgDJNrlJ24I",
        "outputId": "dd40abf9-509d-4ef7-f769-51d2bc252981"
      },
      "execution_count": null,
      "outputs": [
        {
          "output_type": "stream",
          "name": "stderr",
          "text": [
            "/usr/local/lib/python3.9/dist-packages/seaborn/distributions.py:2619: FutureWarning: `distplot` is a deprecated function and will be removed in a future version. Please adapt your code to use either `displot` (a figure-level function with similar flexibility) or `histplot` (an axes-level function for histograms).\n",
            "  warnings.warn(msg, FutureWarning)\n"
          ]
        },
        {
          "output_type": "execute_result",
          "data": {
            "text/plain": [
              "<AxesSubplot:ylabel='Density'>"
            ]
          },
          "metadata": {},
          "execution_count": 104
        },
        {
          "output_type": "display_data",
          "data": {
            "text/plain": [
              "<Figure size 432x288 with 1 Axes>"
            ],
            "image/png": "[encoded data removed]"
          },
          "metadata": {
            "needs_background": "light"
          }
        }
      ]
    },
    {
      "cell_type": "markdown",
      "source": [
        "# KDE"
      ],
      "metadata": {
        "id": "wIKxiromDJmn"
      }
    },
    {
      "cell_type": "code",
      "source": [
        "# generate a sample\n",
        "sample1 = normal(loc=20, scale=5, size=300)\n",
        "sample2 = normal(loc=40, scale=5, size=700)\n",
        "sample = np.hstack((sample1, sample2))"
      ],
      "metadata": {
        "id": "tANSTx4znAYG"
      },
      "execution_count": null,
      "outputs": []
    },
    {
      "cell_type": "code",
      "source": [
        "sample"
      ],
      "metadata": {
        "colab": {
          "base_uri": "https://localhost:8080/"
        },
        "id": "WagjEqX-NNxR",
        "outputId": "991f9d4e-4476-4cdd-8c6a-240c5c10f399"
      },
      "execution_count": null,
      "outputs": [
        {
          "output_type": "execute_result",
          "data": {
            "text/plain": [
              "array([25.37101508, 23.17282846, 23.19266408, 21.23591442, 19.99585223,\n",
              "       26.05479481, 24.87635573, 22.5707997 , 24.53847252, 17.19733365,\n",
              "       15.62925657, 18.86415649, 19.00022272, 18.59746903, 13.39775335,\n",
              "       14.44637505, 16.50879004, 22.05320241, 16.91522729, 24.87998461,\n",
              "       25.38985776, 27.60649904, 20.60436429, 20.51424303, 16.82990467,\n",
              "       16.72124091, 15.82440899, 19.21818665, 22.43898545, 19.05112432,\n",
              "       21.23007028, 22.35301007, 14.54516627, 13.68508601, 21.93909454,\n",
              "       16.50490442, 18.52882481, 22.6361671 , 22.06974787, 22.80384678,\n",
              "       16.02872418, 14.45938868, 19.39410043, 23.67978479, 30.33476097,\n",
              "       17.75143584, 18.41254234, 22.79632257, 14.69758962, 24.0195535 ,\n",
              "       19.72296554, 18.34844409, 22.4203516 , 17.6989518 , 23.95721438,\n",
              "       22.29306234, 13.23571722, 17.7655658 , 26.32972605, 15.46106693,\n",
              "       21.51581129, 22.84867011, 19.72513232, 24.73696242, 21.79223535,\n",
              "        8.22274972, 15.86279733, 20.42353259, 25.27510655, 11.79336859,\n",
              "       30.98321687, 25.27164993, 20.99753848, 26.67515231, 24.7271303 ,\n",
              "       21.63150605, 24.60940313, 23.30878058, 28.05151889, 21.17020424,\n",
              "       16.78264853, 14.12669305, 11.80739263,  5.05186622, 21.39726354,\n",
              "       15.61932563, 16.59017009, 20.04965707, 23.11173277, 14.57859971,\n",
              "       26.12455937, 26.26216464, 21.22182602,  8.85059506, 17.19364332,\n",
              "       22.29817619, 19.17735695, 14.89720989, 17.36085747, 17.1183832 ,\n",
              "       20.28324735, 27.05545087, 21.09241359, 21.88932091, 24.12244744,\n",
              "       14.2880955 , 22.71175357, 16.03407841, 21.16002229, 17.25168091,\n",
              "       12.35880113, 17.99983483, 17.76747721, 19.64827737, 20.868073  ,\n",
              "       22.56885729, 20.10785454, 21.38082444, 21.90100254, 29.08848779,\n",
              "       24.74629218, 13.50222425, 23.88186078, 21.85681186,  7.02675044,\n",
              "        9.90320294, 18.69286498,  9.15045863, 25.57540596, 14.18278419,\n",
              "       21.73176782, 23.1606919 , 17.90438272, 24.96182011, 16.57844909,\n",
              "        6.36002823, 24.78961174, 11.86592833, 15.3407537 , 25.08009891,\n",
              "       11.34006611, 22.97390008, 28.27499148, 15.55016342, 16.34681504,\n",
              "       23.50536342, 22.29213397, 20.23312824, 23.11627322, 20.61688122,\n",
              "        9.57667934, 26.78338359, 21.10275124, 32.10644825, 17.09923323,\n",
              "       27.98466852, 20.32323469, 14.10503853, 18.12318603, 17.43011757,\n",
              "       21.07648969, 18.67818737, 17.81757834,  9.30223607, 18.48552739,\n",
              "       18.70204873, 25.68824933, 19.05019273, 16.39032404, 26.08934326,\n",
              "       20.17006534,  9.12645349,  5.89423269, 16.35405488, 23.27501581,\n",
              "       16.82084574, 29.74043569, 20.18629982, 18.24601079, 23.18352563,\n",
              "       18.90359697,  8.63121699, 18.2930157 , 11.5290024 , 16.39303508,\n",
              "       18.92919987, 14.57333024, 19.52109113, 17.53375919, 25.87628953,\n",
              "       23.55675677, 11.33288285, 16.74051487, 18.46771288, 28.79462526,\n",
              "       21.37614571, 28.04604062, 26.34210096, 24.68440547, 28.47095162,\n",
              "       15.94117231, 19.35134081, 14.5701244 , 15.71938091, 23.60508574,\n",
              "       15.46047783, 19.90686679, 12.55894732, 15.46622532, 21.4263793 ,\n",
              "       18.17069968, 27.28927082, 12.54958259, 14.91019411, 24.65403664,\n",
              "       18.00419714, 14.41376697, 23.77078508, 21.75974396, 20.89187443,\n",
              "       19.42516299, 21.89752599, 20.93304196, 23.90513584, 21.43002363,\n",
              "       18.52895782, 16.71201353, 13.67725951, 18.30366448, 23.03085079,\n",
              "       19.33705698, 25.27806926, 20.11656414, 25.26448695, 33.38601471,\n",
              "       13.96621707, 15.89733303, 20.83892597, 16.27569864, 28.68295975,\n",
              "       25.75488628, 22.939394  , 25.45781151, 20.29437577, 27.07100449,\n",
              "       24.42457018, 22.31363222, 22.7558104 , 22.8726237 , 18.47619897,\n",
              "       20.99851326, 18.91547169, 28.88932465, 19.45021749, 18.93285244,\n",
              "       21.69607542, 15.77282225, 15.68924639, 15.57018335, 28.02897941,\n",
              "       17.99334961, 23.86003035, 14.18082463, 16.93595427, 19.2814389 ,\n",
              "       22.15848311, 25.4594286 , 22.50721518, 14.13010351, 25.03236024,\n",
              "       28.84136287, 24.17320625, 15.77171299, 19.78258207, 13.21617116,\n",
              "       22.33858876, 13.2282553 , 18.63374997, 16.51538315, 21.46124808,\n",
              "       12.29998606, 10.49452423, 21.90382576, 18.08726767, 16.61968217,\n",
              "       28.91808032, 14.9863611 , 21.97243812, 15.82700917, 28.8810876 ,\n",
              "       24.86015152, 15.62734566, 15.27845298, 22.93710468, 17.60938761,\n",
              "       25.0124093 , 18.74136892, 21.38243622, 21.95787799, 21.50418021,\n",
              "       41.0741759 , 41.41914491, 38.24365405, 39.87907291, 34.98392569,\n",
              "       45.23990366, 34.21905167, 40.19245345, 40.73553464, 42.84887533,\n",
              "       39.76153054, 29.94066035, 38.56514619, 37.98881783, 31.89527468,\n",
              "       29.14744504, 37.10686621, 42.18490174, 41.74820744, 35.86236639,\n",
              "       49.52952782, 36.28137182, 43.31718992, 42.44600978, 38.41862013,\n",
              "       41.80059062, 45.52670395, 41.27611923, 28.06329917, 38.44391051,\n",
              "       46.22115727, 35.51874083, 41.41175836, 36.00726735, 37.20215621,\n",
              "       41.47857716, 41.39903645, 34.37437495, 39.73988878, 36.50351007,\n",
              "       50.41543751, 38.52270962, 44.55094986, 39.81588082, 43.37436134,\n",
              "       35.83635116, 32.35551974, 44.93477396, 37.23754461, 37.98959225,\n",
              "       37.75272764, 40.8530519 , 34.85739242, 46.79646907, 39.14420781,\n",
              "       44.20815943, 39.87551678, 36.90866251, 32.06960164, 35.97896455,\n",
              "       44.37846088, 37.69088549, 39.25199249, 44.75317325, 38.40245654,\n",
              "       44.82844153, 40.80150961, 31.03854539, 33.81965963, 37.90509009,\n",
              "       39.59187872, 36.39803252, 41.5221155 , 49.11156693, 44.56818962,\n",
              "       38.67786101, 45.84138415, 39.19436841, 31.79658523, 42.17075001,\n",
              "       37.48319973, 43.53857445, 45.41378396, 39.18586238, 37.33311284,\n",
              "       35.32279632, 36.48912034, 42.91444883, 37.06126601, 47.24720688,\n",
              "       44.4632233 , 40.59842258, 46.96566359, 42.74140712, 35.10379742,\n",
              "       50.89544581, 39.30289443, 42.75985366, 37.0079749 , 39.68640939,\n",
              "       35.78943198, 39.64554775, 52.85576872, 29.98521283, 37.38275314,\n",
              "       36.98978506, 38.43290892, 40.70780059, 35.81615827, 39.61561306,\n",
              "       41.97774424, 36.52319362, 43.07895748, 45.91041075, 47.05691027,\n",
              "       43.03798465, 42.13709124, 48.07968329, 45.83841487, 41.03610323,\n",
              "       42.62397852, 52.31393646, 46.43669983, 36.6713587 , 38.37557792,\n",
              "       42.93732159, 39.40128832, 45.96976361, 41.33910985, 43.26877768,\n",
              "       48.69544611, 42.66405404, 41.87029612, 44.81687514, 40.90608383,\n",
              "       40.62215967, 40.94309833, 41.90541385, 39.92070848, 34.88910549,\n",
              "       45.30869139, 39.68585167, 38.00141658, 34.78926272, 46.66441031,\n",
              "       40.43655517, 33.6067768 , 42.26246648, 46.9505463 , 45.47476821,\n",
              "       42.12022124, 42.01853476, 43.82284462, 38.62352643, 38.06725275,\n",
              "       39.52111502, 33.62912278, 40.22256891, 37.0208567 , 30.21705826,\n",
              "       34.06268386, 41.65885503, 44.27582044, 45.09618683, 37.32483203,\n",
              "       44.47588172, 42.48131224, 35.79452299, 39.0832571 , 43.65840104,\n",
              "       41.83356157, 41.9752401 , 50.24873012, 46.42842879, 36.39442907,\n",
              "       39.91651488, 48.80125315, 31.19348861, 47.2767498 , 39.28024532,\n",
              "       47.13604961, 39.28097698, 47.33478906, 41.81557569, 46.83489133,\n",
              "       39.59783901, 30.17342009, 42.20566065, 40.30456576, 39.34825318,\n",
              "       41.08826345, 35.82430174, 41.27399781, 34.24969189, 32.4208817 ,\n",
              "       40.53934958, 39.77514626, 39.52897883, 46.6174556 , 35.00066048,\n",
              "       40.08787686, 30.66014277, 45.29737443, 39.43455999, 43.12624903,\n",
              "       43.69942189, 44.960577  , 42.42502713, 56.39046814, 41.94568846,\n",
              "       38.24177848, 35.12850529, 41.06461694, 43.10416498, 40.27907187,\n",
              "       34.74304951, 38.58351147, 36.52121653, 43.79851694, 39.12292998,\n",
              "       38.40921829, 39.3190778 , 38.7270657 , 48.74489569, 45.57168981,\n",
              "       41.8057959 , 41.77549631, 47.41912147, 33.47301834, 39.19149983,\n",
              "       37.54320892, 40.31850314, 28.73889316, 40.94277105, 39.58151451,\n",
              "       41.1187906 , 39.38089379, 41.33562295, 34.93160707, 36.8854692 ,\n",
              "       37.53720281, 46.01301467, 38.50085051, 38.95905211, 32.491023  ,\n",
              "       44.46386333, 35.56985487, 45.35003826, 47.23430599, 37.95071393,\n",
              "       39.13350005, 41.16366166, 51.35579281, 35.18878543, 39.69899186,\n",
              "       43.71624041, 37.88709301, 38.08007219, 34.46757815, 32.63737883,\n",
              "       36.46053433, 39.0182914 , 30.4299954 , 37.05968359, 33.26457689,\n",
              "       32.24396804, 39.35956084, 50.95199341, 47.65605658, 45.130757  ,\n",
              "       44.11616762, 40.84706251, 40.74978747, 42.11687831, 40.48589537,\n",
              "       41.69503667, 43.61810095, 31.4400789 , 35.59814465, 35.32813433,\n",
              "       43.91029175, 37.26571608, 38.41287963, 41.4473774 , 37.43447322,\n",
              "       40.25571184, 34.40372988, 44.15185276, 40.74277253, 41.44558108,\n",
              "       42.79322751, 34.34635519, 49.88968855, 45.34239332, 43.70127142,\n",
              "       47.5388867 , 44.18742645, 42.47376688, 45.55050967, 39.19708754,\n",
              "       38.4212459 , 40.88617665, 36.45365519, 37.45862599, 44.35003511,\n",
              "       42.77540068, 44.2989849 , 37.74837959, 34.71848359, 41.46340445,\n",
              "       41.23703844, 42.65787583, 35.44164612, 32.46847532, 41.05119369,\n",
              "       47.88855136, 45.4829783 , 35.6935348 , 41.2799797 , 43.32650706,\n",
              "       44.16957899, 49.4491652 , 31.71167691, 39.92938315, 40.90801743,\n",
              "       49.90102555, 30.85164971, 35.20886361, 47.55547467, 49.30709962,\n",
              "       48.77751404, 41.74206185, 36.86704366, 38.26561585, 43.82999284,\n",
              "       42.22172673, 45.93953913, 37.07346936, 32.9385562 , 46.97360686,\n",
              "       47.66875849, 41.00211389, 43.79037461, 33.26752282, 28.80475669,\n",
              "       48.02365406, 44.22508647, 38.1397994 , 36.06783486, 41.85083064,\n",
              "       40.92973778, 46.69145985, 43.13002482, 41.66648372, 44.97365014,\n",
              "       42.57851093, 38.63551294, 36.98539465, 38.24784866, 43.64417777,\n",
              "       39.31599763, 33.30604272, 30.18796337, 42.87774868, 46.72779135,\n",
              "       44.00363724, 43.82501101, 43.48164555, 45.58803477, 36.89291011,\n",
              "       47.76357248, 43.26989396, 46.73057123, 41.46582675, 41.05992883,\n",
              "       36.36122628, 41.04163229, 40.85581658, 42.45096863, 35.08493489,\n",
              "       45.55056949, 51.72665339, 45.60411596, 43.38468548, 52.32670989,\n",
              "       44.03534065, 35.9634601 , 40.37803159, 49.93993427, 32.45494667,\n",
              "       40.26822408, 42.85394787, 37.92438777, 39.83067761, 34.46801716,\n",
              "       39.76839175, 40.77108689, 47.96217482, 40.65931021, 44.7681893 ,\n",
              "       38.155861  , 38.16700937, 32.51452092, 41.1091604 , 37.32774255,\n",
              "       41.56707939, 35.06569819, 39.2989464 , 34.26105499, 43.7082327 ,\n",
              "       44.66577745, 40.25094516, 50.6113641 , 42.75084615, 41.03013169,\n",
              "       38.16586302, 37.2349834 , 28.18057339, 35.355291  , 34.13989008,\n",
              "       46.03353533, 40.6466733 , 34.23418697, 41.72161819, 44.63396534,\n",
              "       39.17641764, 43.25080924, 35.01509648, 49.70846018, 35.63011524,\n",
              "       41.05263484, 37.64410672, 43.98133824, 43.17110041, 41.68413606,\n",
              "       33.41299288, 41.42281767, 30.59877068, 34.84120445, 35.2265054 ,\n",
              "       37.56903893, 36.88421947, 34.90382216, 41.66552856, 33.86457452,\n",
              "       44.09014989, 43.31772554, 40.59635924, 28.16922734, 34.2225738 ,\n",
              "       37.9195099 , 41.35458035, 37.77381219, 39.08522177, 35.07191047,\n",
              "       39.88251751, 31.02492678, 41.24676034, 39.10824346, 31.53252914,\n",
              "       41.97955517, 44.2750435 , 46.51038738, 44.89736886, 30.34738128,\n",
              "       48.58429003, 36.32292234, 30.97806661, 36.06618499, 38.40519865,\n",
              "       42.26733294, 37.93528358, 42.83073454, 51.39412138, 38.51714627,\n",
              "       44.87992244, 35.47308304, 40.50895933, 53.23550055, 44.62218618,\n",
              "       45.54239065, 39.26968991, 40.99838492, 42.30504773, 29.94827646,\n",
              "       41.98960937, 39.25755256, 47.98567532, 41.15652489, 35.01275215,\n",
              "       42.48226719, 34.93788255, 44.3811202 , 40.24800378, 40.5152042 ,\n",
              "       39.7152192 , 32.44202541, 27.35257494, 48.80361914, 44.02387616,\n",
              "       35.24541237, 41.98718646, 42.62538277, 42.0354184 , 44.27109102,\n",
              "       45.48779512, 48.99516166, 41.18723545, 35.40957623, 44.08589214,\n",
              "       35.73433645, 33.37464387, 39.55679732, 36.8758092 , 46.0789014 ,\n",
              "       38.46646857, 41.54792385, 29.20978066, 42.56334456, 37.37244968,\n",
              "       46.84571469, 47.56001774, 40.73073147, 38.69246692, 41.55494361,\n",
              "       43.63431559, 42.07048252, 39.27526297, 47.99332781, 40.21608073,\n",
              "       36.80172198, 43.36439364, 42.48766044, 35.76193617, 44.93776434,\n",
              "       38.76932004, 32.27525645, 43.70781218, 35.22213425, 40.21315005,\n",
              "       41.30006213, 38.35687654, 42.34130196, 39.70926494, 40.69038388,\n",
              "       45.33350455, 37.04934665, 40.07922147, 34.99525709, 42.82568587,\n",
              "       46.32642241, 46.04922546, 32.73732048, 45.77527202, 37.25211768,\n",
              "       39.68315367, 33.96833878, 36.65914333, 42.15743708, 49.18959476,\n",
              "       43.74344185, 44.81169988, 30.54103775, 39.91423165, 40.5104222 ,\n",
              "       41.51517014, 44.19105724, 35.51176396, 36.60125127, 41.87063223,\n",
              "       42.51242863, 48.85618242, 45.69008113, 43.48256463, 43.41926303,\n",
              "       36.70816673, 41.06667665, 41.44369923, 39.33984316, 50.90998327,\n",
              "       47.47093465, 33.77325001, 38.83475007, 43.05365588, 34.58768341,\n",
              "       41.18597244, 44.39411671, 38.12597047, 38.23308136, 43.52511468,\n",
              "       45.44492423, 36.49140212, 43.68445151, 48.64803526, 40.50552878,\n",
              "       38.77200543, 41.77004836, 39.48066122, 28.19826095, 44.5792832 ,\n",
              "       44.81886221, 41.16995243, 33.61051472, 40.14465473, 45.06478475,\n",
              "       46.25204819, 41.58832867, 41.73185652, 45.08025656, 41.09511627,\n",
              "       29.48609513, 39.15610379, 35.56635413, 35.21388952, 26.71141849,\n",
              "       43.74472604, 44.555497  , 37.21902812, 31.88010303, 39.88828333,\n",
              "       35.44717795, 43.60060583, 37.55195396, 38.18579578, 30.15228105,\n",
              "       44.84513172, 42.26568778, 35.32728432, 43.36398227, 38.8988552 ,\n",
              "       46.65572642, 39.35436465, 40.74036481, 37.72657537, 42.76851122,\n",
              "       42.65149028, 38.68185137, 43.26592724, 49.30900386, 36.10198981,\n",
              "       40.33514146, 37.2237043 , 44.14396335, 40.31654664, 39.60473605,\n",
              "       42.09611271, 46.82396566, 41.10767122, 36.39170533, 33.49371084,\n",
              "       43.39172516, 40.70464289, 41.43214306, 42.91857853, 43.38339599,\n",
              "       37.22282506, 47.28142315, 48.78830445, 39.08516785, 44.40309642,\n",
              "       34.13940467, 35.68446253, 43.13134344, 43.45064161, 45.31895721,\n",
              "       37.46240419, 42.41505202, 39.54144275, 47.1926372 , 32.28139876,\n",
              "       35.69869627, 40.5904034 , 40.47954903, 41.99821291, 39.37346201,\n",
              "       36.83596823, 46.48068467, 46.64825007, 46.18211384, 48.88230308,\n",
              "       47.04347697, 43.71476009, 33.50373636, 30.34183984, 40.41083312,\n",
              "       29.99389296, 40.51050243, 41.69274795, 46.56654929, 40.40425604,\n",
              "       41.17593812, 40.10665184, 31.9191808 , 36.59388233, 44.24233255,\n",
              "       39.63518268, 33.9892251 , 32.72163839, 50.49824466, 27.94296695])"
            ]
          },
          "metadata": {},
          "execution_count": 110
        }
      ]
    },
    {
      "cell_type": "code",
      "source": [
        "# plot histogram bins=50\n",
        "plt.hist(sample,bins=50)"
      ],
      "metadata": {
        "colab": {
          "base_uri": "https://localhost:8080/",
          "height": 543
        },
        "id": "8emYcLrbCYBv",
        "outputId": "4b98c24e-23d2-4c8b-d0b8-584fb5f6ac5f"
      },
      "execution_count": null,
      "outputs": [
        {
          "output_type": "execute_result",
          "data": {
            "text/plain": [
              "(array([ 2.,  2.,  0.,  5.,  3.,  1.,  6.,  7., 11., 12., 21., 24., 19.,\n",
              "        27., 18., 24., 26., 23., 13., 23.,  9.,  8., 11., 12., 16.,  9.,\n",
              "        19., 14., 21., 46., 29., 42., 46., 65., 54., 75., 48., 50., 45.,\n",
              "        32., 26., 20., 13.,  8.,  7.,  3.,  4.,  0.,  0.,  1.]),\n",
              " array([ 5.05186622,  6.07863826,  7.1054103 ,  8.13218234,  9.15895438,\n",
              "        10.18572641, 11.21249845, 12.23927049, 13.26604253, 14.29281457,\n",
              "        15.31958661, 16.34635865, 17.37313068, 18.39990272, 19.42667476,\n",
              "        20.4534468 , 21.48021884, 22.50699088, 23.53376291, 24.56053495,\n",
              "        25.58730699, 26.61407903, 27.64085107, 28.66762311, 29.69439514,\n",
              "        30.72116718, 31.74793922, 32.77471126, 33.8014833 , 34.82825534,\n",
              "        35.85502737, 36.88179941, 37.90857145, 38.93534349, 39.96211553,\n",
              "        40.98888757, 42.0156596 , 43.04243164, 44.06920368, 45.09597572,\n",
              "        46.12274776, 47.1495198 , 48.17629184, 49.20306387, 50.22983591,\n",
              "        51.25660795, 52.28337999, 53.31015203, 54.33692407, 55.3636961 ,\n",
              "        56.39046814]),\n",
              " <BarContainer object of 50 artists>)"
            ]
          },
          "metadata": {},
          "execution_count": 111
        },
        {
          "output_type": "display_data",
          "data": {
            "text/plain": [
              "<Figure size 432x288 with 1 Axes>"
            ],
            "image/png": "[encoded data removed]"
          },
          "metadata": {
            "needs_background": "light"
          }
        }
      ]
    },
    {
      "cell_type": "code",
      "source": [
        "from sklearn.neighbors import KernelDensity\n",
        "\n",
        "model = KernelDensity(bandwidth=5, kernel='gaussian')\n",
        "\n",
        "# convert data to a 2D array\n",
        "sample = sample.reshape((len(sample), 1))\n",
        "\n",
        "model.fit(sample)"
      ],
      "metadata": {
        "colab": {
          "base_uri": "https://localhost:8080/",
          "height": 74
        },
        "id": "fxPkOU_iqtRB",
        "outputId": "90f29a3d-4d38-4800-eaa3-12f41f86630b"
      },
      "execution_count": null,
      "outputs": [
        {
          "output_type": "execute_result",
          "data": {
            "text/plain": [
              "KernelDensity(bandwidth=5)"
            ],
            "text/html": [
              "<style>#sk-container-id-7 {color: black;background-color: white;}#sk-container-id-7 pre{padding: 0;}#sk-container-id-7 div.sk-toggleable {background-color: white;}#sk-container-id-7 label.sk-toggleable__label {cursor: pointer;display: block;width: 100%;margin-bottom: 0;padding: 0.3em;box-sizing: border-box;text-align: center;}#sk-container-id-7 label.sk-toggleable__label-arrow:before {content: \"▸\";float: left;margin-right: 0.25em;color: #696969;}#sk-container-id-7 label.sk-toggleable__label-arrow:hover:before {color: black;}#sk-container-id-7 div.sk-estimator:hover label.sk-toggleable__label-arrow:before {color: black;}#sk-container-id-7 div.sk-toggleable__content {max-height: 0;max-width: 0;overflow: hidden;text-align: left;background-color: #f0f8ff;}#sk-container-id-7 div.sk-toggleable__content pre {margin: 0.2em;color: black;border-radius: 0.25em;background-color: #f0f8ff;}#sk-container-id-7 input.sk-toggleable__control:checked~div.sk-toggleable__content {max-height: 200px;max-width: 100%;overflow: auto;}#sk-container-id-7 input.sk-toggleable__control:checked~label.sk-toggleable__label-arrow:before {content: \"▾\";}#sk-container-id-7 div.sk-estimator input.sk-toggleable__control:checked~label.sk-toggleable__label {background-color: #d4ebff;}#sk-container-id-7 div.sk-label input.sk-toggleable__control:checked~label.sk-toggleable__label {background-color: #d4ebff;}#sk-container-id-7 input.sk-hidden--visually {border: 0;clip: rect(1px 1px 1px 1px);clip: rect(1px, 1px, 1px, 1px);height: 1px;margin: -1px;overflow: hidden;padding: 0;position: absolute;width: 1px;}#sk-container-id-7 div.sk-estimator {font-family: monospace;background-color: #f0f8ff;border: 1px dotted black;border-radius: 0.25em;box-sizing: border-box;margin-bottom: 0.5em;}#sk-container-id-7 div.sk-estimator:hover {background-color: #d4ebff;}#sk-container-id-7 div.sk-parallel-item::after {content: \"\";width: 100%;border-bottom: 1px solid gray;flex-grow: 1;}#sk-container-id-7 div.sk-label:hover label.sk-toggleable__label {background-color: #d4ebff;}#sk-container-id-7 div.sk-serial::before {content: \"\";position: absolute;border-left: 1px solid gray;box-sizing: border-box;top: 0;bottom: 0;left: 50%;z-index: 0;}#sk-container-id-7 div.sk-serial {display: flex;flex-direction: column;align-items: center;background-color: white;padding-right: 0.2em;padding-left: 0.2em;position: relative;}#sk-container-id-7 div.sk-item {position: relative;z-index: 1;}#sk-container-id-7 div.sk-parallel {display: flex;align-items: stretch;justify-content: center;background-color: white;position: relative;}#sk-container-id-7 div.sk-item::before, #sk-container-id-7 div.sk-parallel-item::before {content: \"\";position: absolute;border-left: 1px solid gray;box-sizing: border-box;top: 0;bottom: 0;left: 50%;z-index: -1;}#sk-container-id-7 div.sk-parallel-item {display: flex;flex-direction: column;z-index: 1;position: relative;background-color: white;}#sk-container-id-7 div.sk-parallel-item:first-child::after {align-self: flex-end;width: 50%;}#sk-container-id-7 div.sk-parallel-item:last-child::after {align-self: flex-start;width: 50%;}#sk-container-id-7 div.sk-parallel-item:only-child::after {width: 0;}#sk-container-id-7 div.sk-dashed-wrapped {border: 1px dashed gray;margin: 0 0.4em 0.5em 0.4em;box-sizing: border-box;padding-bottom: 0.4em;background-color: white;}#sk-container-id-7 div.sk-label label {font-family: monospace;font-weight: bold;display: inline-block;line-height: 1.2em;}#sk-container-id-7 div.sk-label-container {text-align: center;}#sk-container-id-7 div.sk-container {/* jupyter's `normalize.less` sets `[hidden] { display: none; }` but bootstrap.min.css set `[hidden] { display: none !important; }` so we also need the `!important` here to be able to override the default hidden behavior on the sphinx rendered scikit-learn.org. See: https://github.com/scikit-learn/scikit-learn/issues/21755 */display: inline-block !important;position: relative;}#sk-container-id-7 div.sk-text-repr-fallback {display: none;}</style><div id=\"sk-container-id-7\" class=\"sk-top-container\"><div class=\"sk-text-repr-fallback\"><pre>KernelDensity(bandwidth=5)</pre><b>In a Jupyter environment, please rerun this cell to show the HTML representation or trust the notebook. <br />On GitHub, the HTML representation is unable to render, please try loading this page with nbviewer.org.</b></div><div class=\"sk-container\" hidden><div class=\"sk-item\"><div class=\"sk-estimator sk-toggleable\"><input class=\"sk-toggleable__control sk-hidden--visually\" id=\"sk-estimator-id-7\" type=\"checkbox\" checked><label for=\"sk-estimator-id-7\" class=\"sk-toggleable__label sk-toggleable__label-arrow\">KernelDensity</label><div class=\"sk-toggleable__content\"><pre>KernelDensity(bandwidth=5)</pre></div></div></div></div></div>"
            ]
          },
          "metadata": {},
          "execution_count": 123
        }
      ]
    },
    {
      "cell_type": "code",
      "source": [
        "values = np.linspace(sample.min(),sample.max(),100)\n",
        "values = values.reshape((len(values), 1))"
      ],
      "metadata": {
        "id": "ACjbeWVnq90c"
      },
      "execution_count": null,
      "outputs": []
    },
    {
      "cell_type": "code",
      "source": [
        "probabilities = model.score_samples(values)\n",
        "probabilities = np.exp(probabilities)"
      ],
      "metadata": {
        "id": "SdGSnDL-C60o"
      },
      "execution_count": null,
      "outputs": []
    },
    {
      "cell_type": "markdown",
      "source": [
        "`score_samples(values)` returns the log-density estimate of the input samples values. This is because the `score_samples()` method of the KernelDensity class returns the logarithm of the probability density estimate rather than the actual probability density estimate."
      ],
      "metadata": {
        "id": "3WxOuZ5ZDsPG"
      }
    },
    {
      "cell_type": "code",
      "source": [
        "plt.hist(sample, bins=50, density=True)\n",
        "plt.plot(values[:], probabilities)\n",
        "plt.show()"
      ],
      "metadata": {
        "colab": {
          "base_uri": "https://localhost:8080/",
          "height": 265
        },
        "id": "6Mx-98t9rDIZ",
        "outputId": "b8e82588-784f-4aa0-ab89-3f50b9c650f5"
      },
      "execution_count": null,
      "outputs": [
        {
          "output_type": "display_data",
          "data": {
            "text/plain": [
              "<Figure size 432x288 with 1 Axes>"
            ],
            "image/png": "[encoded data removed]"
          },
          "metadata": {
            "needs_background": "light"
          }
        }
      ]
    },
    {
      "cell_type": "code",
      "source": [
        "sns.kdeplot(sample.reshape(1000),bw_adjust=0.02)"
      ],
      "metadata": {
        "colab": {
          "base_uri": "https://localhost:8080/",
          "height": 282
        },
        "id": "DZ9gslUGOdZ0",
        "outputId": "f62b1d35-e11f-41a1-ebe8-67d943e59f4f"
      },
      "execution_count": null,
      "outputs": [
        {
          "output_type": "execute_result",
          "data": {
            "text/plain": [
              "<AxesSubplot:ylabel='Density'>"
            ]
          },
          "metadata": {},
          "execution_count": 132
        },
        {
          "output_type": "display_data",
          "data": {
            "text/plain": [
              "<Figure size 432x288 with 1 Axes>"
            ],
            "image/png": "[encoded data removed]"
          },
          "metadata": {
            "needs_background": "light"
          }
        }
      ]
    },
    {
      "cell_type": "code",
      "source": [
        "import seaborn as sns"
      ],
      "metadata": {
        "id": "48l9TEV3rP5h"
      },
      "execution_count": null,
      "outputs": []
    },
    {
      "cell_type": "code",
      "source": [
        "df = sns.load_dataset('iris')"
      ],
      "metadata": {
        "id": "pvVbpaheO4yW"
      },
      "execution_count": null,
      "outputs": []
    },
    {
      "cell_type": "code",
      "source": [
        "df.head()"
      ],
      "metadata": {
        "colab": {
          "base_uri": "https://localhost:8080/",
          "height": 206
        },
        "id": "GjfTUowqPBAQ",
        "outputId": "fd7d61fc-0bd7-4581-ec40-d03569a19740"
      },
      "execution_count": null,
      "outputs": [
        {
          "output_type": "execute_result",
          "data": {
            "text/plain": [
              "   sepal_length  sepal_width  petal_length  petal_width species\n",
              "0           5.1          3.5           1.4          0.2  setosa\n",
              "1           4.9          3.0           1.4          0.2  setosa\n",
              "2           4.7          3.2           1.3          0.2  setosa\n",
              "3           4.6          3.1           1.5          0.2  setosa\n",
              "4           5.0          3.6           1.4          0.2  setosa"
            ],
            "text/html": [
              "\n",
              "  <div id=\"df-d316fa85-d039-4aae-b16d-1ca683813b85\">\n",
              "    <div class=\"colab-df-container\">\n",
              "      <div>\n",
              "<style scoped>\n",
              "    .dataframe tbody tr th:only-of-type {\n",
              "        vertical-align: middle;\n",
              "    }\n",
              "\n",
              "    .dataframe tbody tr th {\n",
              "        vertical-align: top;\n",
              "    }\n",
              "\n",
              "    .dataframe thead th {\n",
              "        text-align: right;\n",
              "    }\n",
              "</style>\n",
              "<table border=\"1\" class=\"dataframe\">\n",
              "  <thead>\n",
              "    <tr style=\"text-align: right;\">\n",
              "      <th></th>\n",
              "      <th>sepal_length</th>\n",
              "      <th>sepal_width</th>\n",
              "      <th>petal_length</th>\n",
              "      <th>petal_width</th>\n",
              "      <th>species</th>\n",
              "    </tr>\n",
              "  </thead>\n",
              "  <tbody>\n",
              "    <tr>\n",
              "      <th>0</th>\n",
              "      <td>5.1</td>\n",
              "      <td>3.5</td>\n",
              "      <td>1.4</td>\n",
              "      <td>0.2</td>\n",
              "      <td>setosa</td>\n",
              "    </tr>\n",
              "    <tr>\n",
              "      <th>1</th>\n",
              "      <td>4.9</td>\n",
              "      <td>3.0</td>\n",
              "      <td>1.4</td>\n",
              "      <td>0.2</td>\n",
              "      <td>setosa</td>\n",
              "    </tr>\n",
              "    <tr>\n",
              "      <th>2</th>\n",
              "      <td>4.7</td>\n",
              "      <td>3.2</td>\n",
              "      <td>1.3</td>\n",
              "      <td>0.2</td>\n",
              "      <td>setosa</td>\n",
              "    </tr>\n",
              "    <tr>\n",
              "      <th>3</th>\n",
              "      <td>4.6</td>\n",
              "      <td>3.1</td>\n",
              "      <td>1.5</td>\n",
              "      <td>0.2</td>\n",
              "      <td>setosa</td>\n",
              "    </tr>\n",
              "    <tr>\n",
              "      <th>4</th>\n",
              "      <td>5.0</td>\n",
              "      <td>3.6</td>\n",
              "      <td>1.4</td>\n",
              "      <td>0.2</td>\n",
              "      <td>setosa</td>\n",
              "    </tr>\n",
              "  </tbody>\n",
              "</table>\n",
              "</div>\n",
              "      <button class=\"colab-df-convert\" onclick=\"convertToInteractive('df-d316fa85-d039-4aae-b16d-1ca683813b85')\"\n",
              "              title=\"Convert this dataframe to an interactive table.\"\n",
              "              style=\"display:none;\">\n",
              "        \n",
              "  <svg xmlns=\"http://www.w3.org/2000/svg\" height=\"24px\"viewBox=\"0 0 24 24\"\n",
              "       width=\"24px\">\n",
              "    <path d=\"M0 0h24v24H0V0z\" fill=\"none\"/>\n",
              "    <path d=\"M18.56 5.44l.94 2.06.94-2.06 2.06-.94-2.06-.94-.94-2.06-.94 2.06-2.06.94zm-11 1L8.5 8.5l.94-2.06 2.06-.94-2.06-.94L8.5 2.5l-.94 2.06-2.06.94zm10 10l.94 2.06.94-2.06 2.06-.94-2.06-.94-.94-2.06-.94 2.06-2.06.94z\"/><path d=\"M17.41 7.96l-1.37-1.37c-.4-.4-.92-.59-1.43-.59-.52 0-1.04.2-1.43.59L10.3 9.45l-7.72 7.72c-.78.78-.78 2.05 0 2.83L4 21.41c.39.39.9.59 1.41.59.51 0 1.02-.2 1.41-.59l7.78-7.78 2.81-2.81c.8-.78.8-2.07 0-2.86zM5.41 20L4 18.59l7.72-7.72 1.47 1.35L5.41 20z\"/>\n",
              "  </svg>\n",
              "      </button>\n",
              "      \n",
              "  <style>\n",
              "    .colab-df-container {\n",
              "      display:flex;\n",
              "      flex-wrap:wrap;\n",
              "      gap: 12px;\n",
              "    }\n",
              "\n",
              "    .colab-df-convert {\n",
              "      background-color: #E8F0FE;\n",
              "      border: none;\n",
              "      border-radius: 50%;\n",
              "      cursor: pointer;\n",
              "      display: none;\n",
              "      fill: #1967D2;\n",
              "      height: 32px;\n",
              "      padding: 0 0 0 0;\n",
              "      width: 32px;\n",
              "    }\n",
              "\n",
              "    .colab-df-convert:hover {\n",
              "      background-color: #E2EBFA;\n",
              "      box-shadow: 0px 1px 2px rgba(60, 64, 67, 0.3), 0px 1px 3px 1px rgba(60, 64, 67, 0.15);\n",
              "      fill: #174EA6;\n",
              "    }\n",
              "\n",
              "    [theme=dark] .colab-df-convert {\n",
              "      background-color: #3B4455;\n",
              "      fill: #D2E3FC;\n",
              "    }\n",
              "\n",
              "    [theme=dark] .colab-df-convert:hover {\n",
              "      background-color: #434B5C;\n",
              "      box-shadow: 0px 1px 3px 1px rgba(0, 0, 0, 0.15);\n",
              "      filter: drop-shadow(0px 1px 2px rgba(0, 0, 0, 0.3));\n",
              "      fill: #FFFFFF;\n",
              "    }\n",
              "  </style>\n",
              "\n",
              "      <script>\n",
              "        const buttonEl =\n",
              "          document.querySelector('#df-d316fa85-d039-4aae-b16d-1ca683813b85 button.colab-df-convert');\n",
              "        buttonEl.style.display =\n",
              "          google.colab.kernel.accessAllowed ? 'block' : 'none';\n",
              "\n",
              "        async function convertToInteractive(key) {\n",
              "          const element = document.querySelector('#df-d316fa85-d039-4aae-b16d-1ca683813b85');\n",
              "          const dataTable =\n",
              "            await google.colab.kernel.invokeFunction('convertToInteractive',\n",
              "                                                     [key], {});\n",
              "          if (!dataTable) return;\n",
              "\n",
              "          const docLinkHtml = 'Like what you see? Visit the ' +\n",
              "            '<a target=\"_blank\" href=https://colab.research.google.com/notebooks/data_table.ipynb>data table notebook</a>'\n",
              "            + ' to learn more about interactive tables.';\n",
              "          element.innerHTML = '';\n",
              "          dataTable['output_type'] = 'display_data';\n",
              "          await google.colab.output.renderOutput(dataTable, element);\n",
              "          const docLink = document.createElement('div');\n",
              "          docLink.innerHTML = docLinkHtml;\n",
              "          element.appendChild(docLink);\n",
              "        }\n",
              "      </script>\n",
              "    </div>\n",
              "  </div>\n",
              "  "
            ]
          },
          "metadata": {},
          "execution_count": 13
        }
      ]
    },
    {
      "cell_type": "code",
      "source": [
        "sns.kdeplot(data=df,x='sepal_length',hue='species')"
      ],
      "metadata": {
        "colab": {
          "base_uri": "https://localhost:8080/",
          "height": 297
        },
        "id": "GWXYuEaXO6xA",
        "outputId": "caf9948b-ca46-457d-e8f7-a8f4d544e3b3"
      },
      "execution_count": null,
      "outputs": [
        {
          "output_type": "execute_result",
          "data": {
            "text/plain": [
              "<Axes: xlabel='sepal_length', ylabel='Density'>"
            ]
          },
          "metadata": {},
          "execution_count": 14
        },
        {
          "output_type": "display_data",
          "data": {
            "text/plain": [
              "<Figure size 432x288 with 1 Axes>"
            ],
            "image/png": "[encoded data removed]"
          },
          "metadata": {
            "needs_background": "light"
          }
        }
      ]
    },
    {
      "cell_type": "code",
      "source": [
        "sns.kdeplot(data=df,x='sepal_width',hue='species')"
      ],
      "metadata": {
        "colab": {
          "base_uri": "https://localhost:8080/",
          "height": 297
        },
        "id": "HfD6ynwBSMh8",
        "outputId": "99c3c3e1-95a1-4b26-9874-e2967de686d8"
      },
      "execution_count": null,
      "outputs": [
        {
          "output_type": "execute_result",
          "data": {
            "text/plain": [
              "<Axes: xlabel='sepal_width', ylabel='Density'>"
            ]
          },
          "metadata": {},
          "execution_count": 15
        },
        {
          "output_type": "display_data",
          "data": {
            "text/plain": [
              "<Figure size 432x288 with 1 Axes>"
            ],
            "image/png": "[encoded data removed]"
          },
          "metadata": {
            "needs_background": "light"
          }
        }
      ]
    },
    {
      "cell_type": "code",
      "source": [
        "sns.kdeplot(data=df,x='petal_length',hue='species')"
      ],
      "metadata": {
        "colab": {
          "base_uri": "https://localhost:8080/",
          "height": 297
        },
        "id": "L017GVtXSMvj",
        "outputId": "89e77eee-27d9-4267-90a5-1bfb8cc98dde"
      },
      "execution_count": null,
      "outputs": [
        {
          "output_type": "execute_result",
          "data": {
            "text/plain": [
              "<Axes: xlabel='petal_length', ylabel='Density'>"
            ]
          },
          "metadata": {},
          "execution_count": 16
        },
        {
          "output_type": "display_data",
          "data": {
            "text/plain": [
              "<Figure size 432x288 with 1 Axes>"
            ],
            "image/png": "[encoded data removed]"
          },
          "metadata": {
            "needs_background": "light"
          }
        }
      ]
    },
    {
      "cell_type": "code",
      "source": [
        "sns.kdeplot(data=df,x='petal_width',hue='species')"
      ],
      "metadata": {
        "colab": {
          "base_uri": "https://localhost:8080/",
          "height": 297
        },
        "id": "QrkO_gNGSM6v",
        "outputId": "d76ccd7f-3190-4d44-98a8-2f22bd972335"
      },
      "execution_count": null,
      "outputs": [
        {
          "output_type": "execute_result",
          "data": {
            "text/plain": [
              "<Axes: xlabel='petal_width', ylabel='Density'>"
            ]
          },
          "metadata": {},
          "execution_count": 17
        },
        {
          "output_type": "display_data",
          "data": {
            "text/plain": [
              "<Figure size 432x288 with 1 Axes>"
            ],
            "image/png": "[encoded data removed]"
          },
          "metadata": {
            "needs_background": "light"
          }
        }
      ]
    },
    {
      "cell_type": "code",
      "source": [],
      "metadata": {
        "id": "lZSdzNveSNGV"
      },
      "execution_count": null,
      "outputs": []
    },
    {
      "cell_type": "code",
      "source": [
        "sns.kdeplot(df['petal_width'],hue=df['species'])\n",
        "sns.ecdfplot(data=df,x='petal_width',hue='species')"
      ],
      "metadata": {
        "colab": {
          "base_uri": "https://localhost:8080/",
          "height": 297
        },
        "id": "gO8eZwpPPEe9",
        "outputId": "e37821ca-5a29-4355-e319-e9812efe2d30"
      },
      "execution_count": null,
      "outputs": [
        {
          "output_type": "execute_result",
          "data": {
            "text/plain": [
              "<AxesSubplot:xlabel='petal_width', ylabel='Density'>"
            ]
          },
          "metadata": {},
          "execution_count": 61
        },
        {
          "output_type": "display_data",
          "data": {
            "text/plain": [
              "<Figure size 432x288 with 1 Axes>"
            ],
            "image/png": "[encoded data removed]"
          },
          "metadata": {
            "needs_background": "light"
          }
        }
      ]
    },
    {
      "cell_type": "code",
      "source": [
        "titanic = pd.read_csv('https://raw.githubusercontent.com/datasciencedojo/datasets/master/titanic.csv')"
      ],
      "metadata": {
        "id": "Es7lOOwyRk7T"
      },
      "execution_count": null,
      "outputs": []
    },
    {
      "cell_type": "code",
      "source": [
        "titanic.head()"
      ],
      "metadata": {
        "colab": {
          "base_uri": "https://localhost:8080/",
          "height": 285
        },
        "id": "WDggW8PYRlcr",
        "outputId": "f15af5a9-bac3-402e-c28d-44e140d92454"
      },
      "execution_count": null,
      "outputs": [
        {
          "output_type": "execute_result",
          "data": {
            "text/plain": [
              "   PassengerId  Survived  Pclass  \\\n",
              "0            1         0       3   \n",
              "1            2         1       1   \n",
              "2            3         1       3   \n",
              "3            4         1       1   \n",
              "4            5         0       3   \n",
              "\n",
              "                                                Name     Sex   Age  SibSp  \\\n",
              "0                            Braund, Mr. Owen Harris    male  22.0      1   \n",
              "1  Cumings, Mrs. John Bradley (Florence Briggs Th...  female  38.0      1   \n",
              "2                             Heikkinen, Miss. Laina  female  26.0      0   \n",
              "3       Futrelle, Mrs. Jacques Heath (Lily May Peel)  female  35.0      1   \n",
              "4                           Allen, Mr. William Henry    male  35.0      0   \n",
              "\n",
              "   Parch            Ticket     Fare Cabin Embarked  \n",
              "0      0         A/5 21171   7.2500   NaN        S  \n",
              "1      0          PC 17599  71.2833   C85        C  \n",
              "2      0  STON/O2. 3101282   7.9250   NaN        S  \n",
              "3      0            113803  53.1000  C123        S  \n",
              "4      0            373450   8.0500   NaN        S  "
            ],
            "text/html": [
              "\n",
              "  <div id=\"df-f2e8ffe3-3034-44e1-ae5f-9f5c3eeeec6f\">\n",
              "    <div class=\"colab-df-container\">\n",
              "      <div>\n",
              "<style scoped>\n",
              "    .dataframe tbody tr th:only-of-type {\n",
              "        vertical-align: middle;\n",
              "    }\n",
              "\n",
              "    .dataframe tbody tr th {\n",
              "        vertical-align: top;\n",
              "    }\n",
              "\n",
              "    .dataframe thead th {\n",
              "        text-align: right;\n",
              "    }\n",
              "</style>\n",
              "<table border=\"1\" class=\"dataframe\">\n",
              "  <thead>\n",
              "    <tr style=\"text-align: right;\">\n",
              "      <th></th>\n",
              "      <th>PassengerId</th>\n",
              "      <th>Survived</th>\n",
              "      <th>Pclass</th>\n",
              "      <th>Name</th>\n",
              "      <th>Sex</th>\n",
              "      <th>Age</th>\n",
              "      <th>SibSp</th>\n",
              "      <th>Parch</th>\n",
              "      <th>Ticket</th>\n",
              "      <th>Fare</th>\n",
              "      <th>Cabin</th>\n",
              "      <th>Embarked</th>\n",
              "    </tr>\n",
              "  </thead>\n",
              "  <tbody>\n",
              "    <tr>\n",
              "      <th>0</th>\n",
              "      <td>1</td>\n",
              "      <td>0</td>\n",
              "      <td>3</td>\n",
              "      <td>Braund, Mr. Owen Harris</td>\n",
              "      <td>male</td>\n",
              "      <td>22.0</td>\n",
              "      <td>1</td>\n",
              "      <td>0</td>\n",
              "      <td>A/5 21171</td>\n",
              "      <td>7.2500</td>\n",
              "      <td>NaN</td>\n",
              "      <td>S</td>\n",
              "    </tr>\n",
              "    <tr>\n",
              "      <th>1</th>\n",
              "      <td>2</td>\n",
              "      <td>1</td>\n",
              "      <td>1</td>\n",
              "      <td>Cumings, Mrs. John Bradley (Florence Briggs Th...</td>\n",
              "      <td>female</td>\n",
              "      <td>38.0</td>\n",
              "      <td>1</td>\n",
              "      <td>0</td>\n",
              "      <td>PC 17599</td>\n",
              "      <td>71.2833</td>\n",
              "      <td>C85</td>\n",
              "      <td>C</td>\n",
              "    </tr>\n",
              "    <tr>\n",
              "      <th>2</th>\n",
              "      <td>3</td>\n",
              "      <td>1</td>\n",
              "      <td>3</td>\n",
              "      <td>Heikkinen, Miss. Laina</td>\n",
              "      <td>female</td>\n",
              "      <td>26.0</td>\n",
              "      <td>0</td>\n",
              "      <td>0</td>\n",
              "      <td>STON/O2. 3101282</td>\n",
              "      <td>7.9250</td>\n",
              "      <td>NaN</td>\n",
              "      <td>S</td>\n",
              "    </tr>\n",
              "    <tr>\n",
              "      <th>3</th>\n",
              "      <td>4</td>\n",
              "      <td>1</td>\n",
              "      <td>1</td>\n",
              "      <td>Futrelle, Mrs. Jacques Heath (Lily May Peel)</td>\n",
              "      <td>female</td>\n",
              "      <td>35.0</td>\n",
              "      <td>1</td>\n",
              "      <td>0</td>\n",
              "      <td>113803</td>\n",
              "      <td>53.1000</td>\n",
              "      <td>C123</td>\n",
              "      <td>S</td>\n",
              "    </tr>\n",
              "    <tr>\n",
              "      <th>4</th>\n",
              "      <td>5</td>\n",
              "      <td>0</td>\n",
              "      <td>3</td>\n",
              "      <td>Allen, Mr. William Henry</td>\n",
              "      <td>male</td>\n",
              "      <td>35.0</td>\n",
              "      <td>0</td>\n",
              "      <td>0</td>\n",
              "      <td>373450</td>\n",
              "      <td>8.0500</td>\n",
              "      <td>NaN</td>\n",
              "      <td>S</td>\n",
              "    </tr>\n",
              "  </tbody>\n",
              "</table>\n",
              "</div>\n",
              "      <button class=\"colab-df-convert\" onclick=\"convertToInteractive('df-f2e8ffe3-3034-44e1-ae5f-9f5c3eeeec6f')\"\n",
              "              title=\"Convert this dataframe to an interactive table.\"\n",
              "              style=\"display:none;\">\n",
              "        \n",
              "  <svg xmlns=\"http://www.w3.org/2000/svg\" height=\"24px\"viewBox=\"0 0 24 24\"\n",
              "       width=\"24px\">\n",
              "    <path d=\"M0 0h24v24H0V0z\" fill=\"none\"/>\n",
              "    <path d=\"M18.56 5.44l.94 2.06.94-2.06 2.06-.94-2.06-.94-.94-2.06-.94 2.06-2.06.94zm-11 1L8.5 8.5l.94-2.06 2.06-.94-2.06-.94L8.5 2.5l-.94 2.06-2.06.94zm10 10l.94 2.06.94-2.06 2.06-.94-2.06-.94-.94-2.06-.94 2.06-2.06.94z\"/><path d=\"M17.41 7.96l-1.37-1.37c-.4-.4-.92-.59-1.43-.59-.52 0-1.04.2-1.43.59L10.3 9.45l-7.72 7.72c-.78.78-.78 2.05 0 2.83L4 21.41c.39.39.9.59 1.41.59.51 0 1.02-.2 1.41-.59l7.78-7.78 2.81-2.81c.8-.78.8-2.07 0-2.86zM5.41 20L4 18.59l7.72-7.72 1.47 1.35L5.41 20z\"/>\n",
              "  </svg>\n",
              "      </button>\n",
              "      \n",
              "  <style>\n",
              "    .colab-df-container {\n",
              "      display:flex;\n",
              "      flex-wrap:wrap;\n",
              "      gap: 12px;\n",
              "    }\n",
              "\n",
              "    .colab-df-convert {\n",
              "      background-color: #E8F0FE;\n",
              "      border: none;\n",
              "      border-radius: 50%;\n",
              "      cursor: pointer;\n",
              "      display: none;\n",
              "      fill: #1967D2;\n",
              "      height: 32px;\n",
              "      padding: 0 0 0 0;\n",
              "      width: 32px;\n",
              "    }\n",
              "\n",
              "    .colab-df-convert:hover {\n",
              "      background-color: #E2EBFA;\n",
              "      box-shadow: 0px 1px 2px rgba(60, 64, 67, 0.3), 0px 1px 3px 1px rgba(60, 64, 67, 0.15);\n",
              "      fill: #174EA6;\n",
              "    }\n",
              "\n",
              "    [theme=dark] .colab-df-convert {\n",
              "      background-color: #3B4455;\n",
              "      fill: #D2E3FC;\n",
              "    }\n",
              "\n",
              "    [theme=dark] .colab-df-convert:hover {\n",
              "      background-color: #434B5C;\n",
              "      box-shadow: 0px 1px 3px 1px rgba(0, 0, 0, 0.15);\n",
              "      filter: drop-shadow(0px 1px 2px rgba(0, 0, 0, 0.3));\n",
              "      fill: #FFFFFF;\n",
              "    }\n",
              "  </style>\n",
              "\n",
              "      <script>\n",
              "        const buttonEl =\n",
              "          document.querySelector('#df-f2e8ffe3-3034-44e1-ae5f-9f5c3eeeec6f button.colab-df-convert');\n",
              "        buttonEl.style.display =\n",
              "          google.colab.kernel.accessAllowed ? 'block' : 'none';\n",
              "\n",
              "        async function convertToInteractive(key) {\n",
              "          const element = document.querySelector('#df-f2e8ffe3-3034-44e1-ae5f-9f5c3eeeec6f');\n",
              "          const dataTable =\n",
              "            await google.colab.kernel.invokeFunction('convertToInteractive',\n",
              "                                                     [key], {});\n",
              "          if (!dataTable) return;\n",
              "\n",
              "          const docLinkHtml = 'Like what you see? Visit the ' +\n",
              "            '<a target=\"_blank\" href=https://colab.research.google.com/notebooks/data_table.ipynb>data table notebook</a>'\n",
              "            + ' to learn more about interactive tables.';\n",
              "          element.innerHTML = '';\n",
              "          dataTable['output_type'] = 'display_data';\n",
              "          await google.colab.output.renderOutput(dataTable, element);\n",
              "          const docLink = document.createElement('div');\n",
              "          docLink.innerHTML = docLinkHtml;\n",
              "          element.appendChild(docLink);\n",
              "        }\n",
              "      </script>\n",
              "    </div>\n",
              "  </div>\n",
              "  "
            ]
          },
          "metadata": {},
          "execution_count": 19
        }
      ]
    },
    {
      "cell_type": "code",
      "source": [
        "# code here\n",
        "sns.kdeplot(data=titanic,x='Age',hue='Sex')"
      ],
      "metadata": {
        "colab": {
          "base_uri": "https://localhost:8080/",
          "height": 296
        },
        "id": "mwYpnDPNSDu1",
        "outputId": "e61f9827-fd5d-4e89-b7df-77d5c2f85f78"
      },
      "execution_count": null,
      "outputs": [
        {
          "output_type": "execute_result",
          "data": {
            "text/plain": [
              "<Axes: xlabel='Age', ylabel='Density'>"
            ]
          },
          "metadata": {},
          "execution_count": 21
        },
        {
          "output_type": "display_data",
          "data": {
            "text/plain": [
              "<Figure size 432x288 with 1 Axes>"
            ],
            "image/png": "[encoded data removed]"
          },
          "metadata": {
            "needs_background": "light"
          }
        }
      ]
    },
    {
      "cell_type": "code",
      "source": [
        " sns.jointplot(data=df, x=\"petal_length\", y=\"sepal_length\", kind=\"kde\",fill=True,cbar=True)"
      ],
      "metadata": {
        "colab": {
          "base_uri": "https://localhost:8080/",
          "height": 458
        },
        "id": "_5Az3OFmPNvn",
        "outputId": "1a5239a6-558b-4e4d-b9d5-1edf862d2f79"
      },
      "execution_count": null,
      "outputs": [
        {
          "output_type": "execute_result",
          "data": {
            "text/plain": [
              "<seaborn.axisgrid.JointGrid at 0x7f41e974e7c0>"
            ]
          },
          "metadata": {},
          "execution_count": 59
        },
        {
          "output_type": "display_data",
          "data": {
            "text/plain": [
              "<Figure size 432x432 with 4 Axes>"
            ],
            "image/png": "[encoded data removed]"
          },
          "metadata": {
            "needs_background": "light"
          }
        }
      ]
    },
    {
      "cell_type": "code",
      "source": [
        "sns.kdeplot(titanic['Age'])"
      ],
      "metadata": {
        "id": "HuCPjhWQSz5Q",
        "colab": {
          "base_uri": "https://localhost:8080/",
          "height": 296
        },
        "outputId": "a4396b99-d3e8-4426-c3ff-d92fd74dda18"
      },
      "execution_count": null,
      "outputs": [
        {
          "output_type": "execute_result",
          "data": {
            "text/plain": [
              "<Axes: xlabel='Age', ylabel='Density'>"
            ]
          },
          "metadata": {},
          "execution_count": 23
        },
        {
          "output_type": "display_data",
          "data": {
            "text/plain": [
              "<Figure size 432x288 with 1 Axes>"
            ],
            "image/png": "[encoded data removed]"
          },
          "metadata": {
            "needs_background": "light"
          }
        }
      ]
    },
    {
      "cell_type": "code",
      "source": [
        "titanic['Age'].mean()"
      ],
      "metadata": {
        "colab": {
          "base_uri": "https://localhost:8080/"
        },
        "id": "UU8EvZtkzLJH",
        "outputId": "35da9e11-07dc-48ee-bed2-edde8ab367d8"
      },
      "execution_count": null,
      "outputs": [
        {
          "output_type": "execute_result",
          "data": {
            "text/plain": [
              "29.69911764705882"
            ]
          },
          "metadata": {},
          "execution_count": 24
        }
      ]
    },
    {
      "cell_type": "code",
      "source": [
        "x = (titanic['Age'] - titanic['Age'].mean())/titanic['Age'].std()"
      ],
      "metadata": {
        "id": "-qZ7TLzXzWf6"
      },
      "execution_count": null,
      "outputs": []
    },
    {
      "cell_type": "code",
      "source": [
        "sns.kdeplot(x)"
      ],
      "metadata": {
        "colab": {
          "base_uri": "https://localhost:8080/",
          "height": 296
        },
        "id": "N1E-Wx3vzbpk",
        "outputId": "b8f9db68-59c2-47ce-8fb1-91089b3990fa"
      },
      "execution_count": null,
      "outputs": [
        {
          "output_type": "execute_result",
          "data": {
            "text/plain": [
              "<Axes: xlabel='Age', ylabel='Density'>"
            ]
          },
          "metadata": {},
          "execution_count": 28
        },
        {
          "output_type": "display_data",
          "data": {
            "text/plain": [
              "<Figure size 432x288 with 1 Axes>"
            ],
            "image/png": "[encoded data removed]"
          },
          "metadata": {
            "needs_background": "light"
          }
        }
      ]
    },
    {
      "cell_type": "code",
      "source": [
        "x.mean()"
      ],
      "metadata": {
        "colab": {
          "base_uri": "https://localhost:8080/"
        },
        "id": "HiyJuu1XzsS-",
        "outputId": "4442da60-baeb-44a4-b2eb-4999001d1d03"
      },
      "execution_count": null,
      "outputs": [
        {
          "output_type": "execute_result",
          "data": {
            "text/plain": [
              "2.338621049070358e-16"
            ]
          },
          "metadata": {},
          "execution_count": 29
        }
      ]
    },
    {
      "cell_type": "code",
      "source": [
        "x.std()"
      ],
      "metadata": {
        "colab": {
          "base_uri": "https://localhost:8080/"
        },
        "id": "hnxKg-YUzxBF",
        "outputId": "bc110ce5-2620-4aee-a9ba-4cdeebf06a6d"
      },
      "execution_count": null,
      "outputs": [
        {
          "output_type": "execute_result",
          "data": {
            "text/plain": [
              "1.0"
            ]
          },
          "metadata": {},
          "execution_count": 30
        }
      ]
    },
    {
      "cell_type": "code",
      "source": [
        "titanic['Age'].skew()"
      ],
      "metadata": {
        "colab": {
          "base_uri": "https://localhost:8080/"
        },
        "id": "zukZ3BmOz1XF",
        "outputId": "b12fe27e-d1ab-4c2d-9423-bb33bdc48cce"
      },
      "execution_count": null,
      "outputs": [
        {
          "output_type": "execute_result",
          "data": {
            "text/plain": [
              "0.38910778230082704"
            ]
          },
          "metadata": {},
          "execution_count": 32
        }
      ]
    },
    {
      "cell_type": "code",
      "source": [
        "titanic['Age'].mean() + 3*titanic['Age'].std()"
      ],
      "metadata": {
        "colab": {
          "base_uri": "https://localhost:8080/"
        },
        "id": "6EBKSsQd7SOy",
        "outputId": "d042a547-4320-48c8-9ec1-55137d352a14"
      },
      "execution_count": null,
      "outputs": [
        {
          "output_type": "execute_result",
          "data": {
            "text/plain": [
              "73.27860964406094"
            ]
          },
          "metadata": {},
          "execution_count": 33
        }
      ]
    },
    {
      "cell_type": "code",
      "source": [
        "titanic['Age'].mean() - 3*titanic['Age'].std()"
      ],
      "metadata": {
        "colab": {
          "base_uri": "https://localhost:8080/"
        },
        "id": "uf9R_YNL9uMs",
        "outputId": "b70b3edb-fda6-4ebe-ae77-fe613c79c493"
      },
      "execution_count": null,
      "outputs": [
        {
          "output_type": "execute_result",
          "data": {
            "text/plain": [
              "-13.880374349943303"
            ]
          },
          "metadata": {},
          "execution_count": 34
        }
      ]
    },
    {
      "cell_type": "code",
      "source": [
        "titanic[titanic['Age'] > 73]"
      ],
      "metadata": {
        "colab": {
          "base_uri": "https://localhost:8080/",
          "height": 112
        },
        "id": "rf3bBw7D9xgD",
        "outputId": "1b0db4c9-e0a0-4851-a162-71b0d1298c82"
      },
      "execution_count": null,
      "outputs": [
        {
          "output_type": "execute_result",
          "data": {
            "text/plain": [
              "     PassengerId  Survived  Pclass                                  Name  \\\n",
              "630          631         1       1  Barkworth, Mr. Algernon Henry Wilson   \n",
              "851          852         0       3                   Svensson, Mr. Johan   \n",
              "\n",
              "      Sex   Age  SibSp  Parch  Ticket    Fare Cabin Embarked  \n",
              "630  male  80.0      0      0   27042  30.000   A23        S  \n",
              "851  male  74.0      0      0  347060   7.775   NaN        S  "
            ],
            "text/html": [
              "\n",
              "  <div id=\"df-83d66de9-d78e-4ac5-a9d7-f1600ac3441d\">\n",
              "    <div class=\"colab-df-container\">\n",
              "      <div>\n",
              "<style scoped>\n",
              "    .dataframe tbody tr th:only-of-type {\n",
              "        vertical-align: middle;\n",
              "    }\n",
              "\n",
              "    .dataframe tbody tr th {\n",
              "        vertical-align: top;\n",
              "    }\n",
              "\n",
              "    .dataframe thead th {\n",
              "        text-align: right;\n",
              "    }\n",
              "</style>\n",
              "<table border=\"1\" class=\"dataframe\">\n",
              "  <thead>\n",
              "    <tr style=\"text-align: right;\">\n",
              "      <th></th>\n",
              "      <th>PassengerId</th>\n",
              "      <th>Survived</th>\n",
              "      <th>Pclass</th>\n",
              "      <th>Name</th>\n",
              "      <th>Sex</th>\n",
              "      <th>Age</th>\n",
              "      <th>SibSp</th>\n",
              "      <th>Parch</th>\n",
              "      <th>Ticket</th>\n",
              "      <th>Fare</th>\n",
              "      <th>Cabin</th>\n",
              "      <th>Embarked</th>\n",
              "    </tr>\n",
              "  </thead>\n",
              "  <tbody>\n",
              "    <tr>\n",
              "      <th>630</th>\n",
              "      <td>631</td>\n",
              "      <td>1</td>\n",
              "      <td>1</td>\n",
              "      <td>Barkworth, Mr. Algernon Henry Wilson</td>\n",
              "      <td>male</td>\n",
              "      <td>80.0</td>\n",
              "      <td>0</td>\n",
              "      <td>0</td>\n",
              "      <td>27042</td>\n",
              "      <td>30.000</td>\n",
              "      <td>A23</td>\n",
              "      <td>S</td>\n",
              "    </tr>\n",
              "    <tr>\n",
              "      <th>851</th>\n",
              "      <td>852</td>\n",
              "      <td>0</td>\n",
              "      <td>3</td>\n",
              "      <td>Svensson, Mr. Johan</td>\n",
              "      <td>male</td>\n",
              "      <td>74.0</td>\n",
              "      <td>0</td>\n",
              "      <td>0</td>\n",
              "      <td>347060</td>\n",
              "      <td>7.775</td>\n",
              "      <td>NaN</td>\n",
              "      <td>S</td>\n",
              "    </tr>\n",
              "  </tbody>\n",
              "</table>\n",
              "</div>\n",
              "      <button class=\"colab-df-convert\" onclick=\"convertToInteractive('df-83d66de9-d78e-4ac5-a9d7-f1600ac3441d')\"\n",
              "              title=\"Convert this dataframe to an interactive table.\"\n",
              "              style=\"display:none;\">\n",
              "        \n",
              "  <svg xmlns=\"http://www.w3.org/2000/svg\" height=\"24px\"viewBox=\"0 0 24 24\"\n",
              "       width=\"24px\">\n",
              "    <path d=\"M0 0h24v24H0V0z\" fill=\"none\"/>\n",
              "    <path d=\"M18.56 5.44l.94 2.06.94-2.06 2.06-.94-2.06-.94-.94-2.06-.94 2.06-2.06.94zm-11 1L8.5 8.5l.94-2.06 2.06-.94-2.06-.94L8.5 2.5l-.94 2.06-2.06.94zm10 10l.94 2.06.94-2.06 2.06-.94-2.06-.94-.94-2.06-.94 2.06-2.06.94z\"/><path d=\"M17.41 7.96l-1.37-1.37c-.4-.4-.92-.59-1.43-.59-.52 0-1.04.2-1.43.59L10.3 9.45l-7.72 7.72c-.78.78-.78 2.05 0 2.83L4 21.41c.39.39.9.59 1.41.59.51 0 1.02-.2 1.41-.59l7.78-7.78 2.81-2.81c.8-.78.8-2.07 0-2.86zM5.41 20L4 18.59l7.72-7.72 1.47 1.35L5.41 20z\"/>\n",
              "  </svg>\n",
              "      </button>\n",
              "      \n",
              "  <style>\n",
              "    .colab-df-container {\n",
              "      display:flex;\n",
              "      flex-wrap:wrap;\n",
              "      gap: 12px;\n",
              "    }\n",
              "\n",
              "    .colab-df-convert {\n",
              "      background-color: #E8F0FE;\n",
              "      border: none;\n",
              "      border-radius: 50%;\n",
              "      cursor: pointer;\n",
              "      display: none;\n",
              "      fill: #1967D2;\n",
              "      height: 32px;\n",
              "      padding: 0 0 0 0;\n",
              "      width: 32px;\n",
              "    }\n",
              "\n",
              "    .colab-df-convert:hover {\n",
              "      background-color: #E2EBFA;\n",
              "      box-shadow: 0px 1px 2px rgba(60, 64, 67, 0.3), 0px 1px 3px 1px rgba(60, 64, 67, 0.15);\n",
              "      fill: #174EA6;\n",
              "    }\n",
              "\n",
              "    [theme=dark] .colab-df-convert {\n",
              "      background-color: #3B4455;\n",
              "      fill: #D2E3FC;\n",
              "    }\n",
              "\n",
              "    [theme=dark] .colab-df-convert:hover {\n",
              "      background-color: #434B5C;\n",
              "      box-shadow: 0px 1px 3px 1px rgba(0, 0, 0, 0.15);\n",
              "      filter: drop-shadow(0px 1px 2px rgba(0, 0, 0, 0.3));\n",
              "      fill: #FFFFFF;\n",
              "    }\n",
              "  </style>\n",
              "\n",
              "      <script>\n",
              "        const buttonEl =\n",
              "          document.querySelector('#df-83d66de9-d78e-4ac5-a9d7-f1600ac3441d button.colab-df-convert');\n",
              "        buttonEl.style.display =\n",
              "          google.colab.kernel.accessAllowed ? 'block' : 'none';\n",
              "\n",
              "        async function convertToInteractive(key) {\n",
              "          const element = document.querySelector('#df-83d66de9-d78e-4ac5-a9d7-f1600ac3441d');\n",
              "          const dataTable =\n",
              "            await google.colab.kernel.invokeFunction('convertToInteractive',\n",
              "                                                     [key], {});\n",
              "          if (!dataTable) return;\n",
              "\n",
              "          const docLinkHtml = 'Like what you see? Visit the ' +\n",
              "            '<a target=\"_blank\" href=https://colab.research.google.com/notebooks/data_table.ipynb>data table notebook</a>'\n",
              "            + ' to learn more about interactive tables.';\n",
              "          element.innerHTML = '';\n",
              "          dataTable['output_type'] = 'display_data';\n",
              "          await google.colab.output.renderOutput(dataTable, element);\n",
              "          const docLink = document.createElement('div');\n",
              "          docLink.innerHTML = docLinkHtml;\n",
              "          element.appendChild(docLink);\n",
              "        }\n",
              "      </script>\n",
              "    </div>\n",
              "  </div>\n",
              "  "
            ]
          },
          "metadata": {},
          "execution_count": 37
        }
      ]
    },
    {
      "cell_type": "code",
      "source": [
        "titanic['Age'].max()"
      ],
      "metadata": {
        "colab": {
          "base_uri": "https://localhost:8080/"
        },
        "id": "KQu5isNq9-5b",
        "outputId": "81c376ea-9345-4043-8be1-1de17bfea78d"
      },
      "execution_count": null,
      "outputs": [
        {
          "output_type": "execute_result",
          "data": {
            "text/plain": [
              "80.0"
            ]
          },
          "metadata": {},
          "execution_count": 36
        }
      ]
    },
    {
      "cell_type": "code",
      "source": [],
      "metadata": {
        "id": "Gqi-IezQ-D_w"
      },
      "execution_count": null,
      "outputs": []
    }
  ]
}