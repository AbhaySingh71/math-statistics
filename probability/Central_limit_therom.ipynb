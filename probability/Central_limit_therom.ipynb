{
  "nbformat": 4,
  "nbformat_minor": 0,
  "metadata": {
    "colab": {
      "provenance": [],
      "include_colab_link": true
    },
    "kernelspec": {
      "name": "python3",
      "display_name": "Python 3"
    },
    "language_info": {
      "name": "python"
    }
  },
  "cells": [
    {
      "cell_type": "markdown",
      "metadata": {
        "id": "view-in-github",
        "colab_type": "text"
      },
      "source": [
        "<a href=\"https://colab.research.google.com/github/AbhaySingh71/math-statistics/blob/main/probability/Central_limit_therom.ipynb\" target=\"_parent\"><img src=\"https://colab.research.google.com/assets/colab-badge.svg\" alt=\"Open In Colab\"/></a>"
      ]
    },
    {
      "cell_type": "code",
      "execution_count": null,
      "metadata": {
        "id": "B4Qg4JoFfH7X"
      },
      "outputs": [],
      "source": [
        "import numpy as np\n",
        "import matplotlib.pyplot as plt"
      ]
    },
    {
      "cell_type": "code",
      "source": [
        "n = 10  # number of trials\n",
        "p = 0.1  # probability of success\n",
        "size = 1000  # number of samples to generate\n",
        "\n",
        "binomial_dist = np.random.binomial(n, p, size)\n",
        "\n",
        "plt.hist(binomial_dist,density=True)\n",
        "plt.show()"
      ],
      "metadata": {
        "colab": {
          "base_uri": "https://localhost:8080/",
          "height": 265
        },
        "id": "aYU6WgqPfhFp",
        "outputId": "c6051e24-c97f-44e4-d13a-63a0eee8d504"
      },
      "execution_count": null,
      "outputs": [
        {
          "output_type": "display_data",
          "data": {
            "text/plain": [
              "<Figure size 432x288 with 1 Axes>"
            ],
            "image/png": "[encoded data removed]"
          },
          "metadata": {
            "needs_background": "light"
          }
        }
      ]
    },
    {
      "cell_type": "code",
      "source": [
        "import numpy as np\n",
        "import matplotlib.pyplot as plt\n",
        "\n",
        "# Set the parameters\n",
        "num_samples = 10000\n",
        "sample_size = 300\n",
        "distribution_range = (0, 1)\n",
        "\n",
        "# Generate samples from a uniform distribution\n",
        "samples = np.random.uniform(distribution_range[0], distribution_range[1], (num_samples, sample_size))\n",
        "\n",
        "# Calculate the sample means\n",
        "sample_means = np.mean(samples, axis=1)\n",
        "\n",
        "# Plot the histogram of the sample means\n",
        "plt.hist(sample_means, bins=30, density=True, edgecolor='black')\n",
        "plt.title('Histogram of Sample Means')\n",
        "plt.xlabel('Sample Mean')\n",
        "plt.ylabel('Density')\n",
        "plt.show()\n"
      ],
      "metadata": {
        "colab": {
          "base_uri": "https://localhost:8080/",
          "height": 295
        },
        "id": "WlQgIHA9iJPT",
        "outputId": "c313b30a-4621-4d75-e1a9-8b7d53b79f7b"
      },
      "execution_count": null,
      "outputs": [
        {
          "output_type": "display_data",
          "data": {
            "text/plain": [
              "<Figure size 432x288 with 1 Axes>"
            ],
            "image/png": "[encoded data removed]"
          },
          "metadata": {
            "needs_background": "light"
          }
        }
      ]
    },
    {
      "cell_type": "code",
      "source": [
        "import numpy as np\n",
        "import matplotlib.pyplot as plt\n",
        "\n",
        "# Set the parameters\n",
        "num_samples = 1000\n",
        "sample_size = 50\n",
        "lambda_param = 2\n",
        "\n",
        "# Generate samples from an exponential distribution\n",
        "samples = np.random.exponential(scale=1/lambda_param, size=(num_samples, sample_size))\n",
        "\n",
        "# Calculate the sample means\n",
        "sample_means = np.mean(samples, axis=1)\n",
        "\n",
        "# Plot the histogram of the sample means\n",
        "plt.hist(sample_means, bins=30, density=True, edgecolor='black')\n",
        "plt.title('Histogram of Sample Means (Exponential Distribution)')\n",
        "plt.xlabel('Sample Mean')\n",
        "plt.ylabel('Density')\n",
        "plt.show()\n"
      ],
      "metadata": {
        "colab": {
          "base_uri": "https://localhost:8080/",
          "height": 295
        },
        "id": "jBdPqh9goUtg",
        "outputId": "87f5bdbb-37f7-4909-b9f5-6ae6f6f6575e"
      },
      "execution_count": null,
      "outputs": [
        {
          "output_type": "display_data",
          "data": {
            "text/plain": [
              "<Figure size 432x288 with 1 Axes>"
            ],
            "image/png": "[encoded data removed]"
          },
          "metadata": {
            "needs_background": "light"
          }
        }
      ]
    },
    {
      "cell_type": "code",
      "source": [
        "import numpy as np\n",
        "import matplotlib.pyplot as plt\n",
        "\n",
        "# Set the parameters\n",
        "num_samples = 1000\n",
        "sample_size = 50\n",
        "\n",
        "# Poisson distribution parameters\n",
        "poisson_lambda = 5\n",
        "\n",
        "# Gamma distribution parameters\n",
        "gamma_shape = 2\n",
        "gamma_scale = 1\n",
        "\n",
        "# Binomial distribution parameters\n",
        "binomial_n = 10\n",
        "binomial_p = 0.5\n",
        "\n",
        "# Generate samples from the distributions\n",
        "poisson_samples = np.random.poisson(lam=poisson_lambda, size=(num_samples, sample_size))\n",
        "gamma_samples = np.random.gamma(shape=gamma_shape, scale=gamma_scale, size=(num_samples, sample_size))\n",
        "binomial_samples = np.random.binomial(n=binomial_n, p=binomial_p, size=(num_samples, sample_size))\n",
        "\n",
        "# Calculate the sample means\n",
        "poisson_means = np.mean(poisson_samples, axis=1)\n",
        "gamma_means = np.mean(gamma_samples, axis=1)\n",
        "binomial_means = np.mean(binomial_samples, axis=1)\n",
        "\n",
        "# Plot the histograms of the sample means\n",
        "fig, axs = plt.subplots(3, 1, figsize=(8, 12))\n",
        "\n",
        "# Poisson distribution\n",
        "axs[0].hist(poisson_means, bins=30, density=True, edgecolor='black')\n",
        "axs[0].set_title('Histogram of Sample Means (Poisson Distribution)')\n",
        "axs[0].set_xlabel('Sample Mean')\n",
        "axs[0].set_ylabel('Density')\n",
        "\n",
        "# Gamma distribution\n",
        "axs[1].hist(gamma_means, bins=30, density=True, edgecolor='black')\n",
        "axs[1].set_title('Histogram of Sample Means (Gamma Distribution)')\n",
        "axs[1].set_xlabel('Sample Mean')\n",
        "axs[1].set_ylabel('Density')\n",
        "\n",
        "# Binomial distribution\n",
        "axs[2].hist(binomial_means, bins=30, density=True, edgecolor='black')\n",
        "axs[2].set_title('Histogram of Sample Means (Binomial Distribution)')\n",
        "axs[2].set_xlabel('Sample Mean')\n",
        "axs[2].set_ylabel('Density')\n",
        "\n",
        "# Adjust the layout and show the plot\n",
        "fig.tight_layout()\n",
        "plt.show()\n",
        "\n"
      ],
      "metadata": {
        "colab": {
          "base_uri": "https://localhost:8080/",
          "height": 873
        },
        "id": "kQNpAKeEooeM",
        "outputId": "72b46397-adb8-4176-bea0-ceca45c4dea2"
      },
      "execution_count": null,
      "outputs": [
        {
          "output_type": "display_data",
          "data": {
            "text/plain": [
              "<Figure size 576x864 with 3 Axes>"
            ],
            "image/png": "[encoded data removed]"
          },
          "metadata": {
            "needs_background": "light"
          }
        }
      ]
    },
    {
      "cell_type": "code",
      "source": [
        "# CLT Demo Gamma Distribution"
      ],
      "metadata": {
        "id": "AT6yMOCt7p5F"
      },
      "execution_count": null,
      "outputs": []
    },
    {
      "cell_type": "code",
      "source": [
        "import numpy as np\n",
        "\n",
        "# Set the parameters\n",
        "num_samples = 10000\n",
        "sample_size = 50\n",
        "\n",
        "# Gamma distribution parameters\n",
        "gamma_shape = 2\n",
        "gamma_scale = 1\n",
        "\n",
        "# Calculate the theoretical mean and variance\n",
        "theoretical_mean = gamma_shape * gamma_scale\n",
        "theoretical_variance = (gamma_shape * gamma_scale ** 2)\n",
        "\n",
        "# Generate samples from the Gamma distribution\n",
        "samples = np.random.gamma(shape=gamma_shape, scale=gamma_scale, size=(num_samples, sample_size))\n",
        "\n",
        "# Calculate the sample means\n",
        "sample_means = np.mean(samples, axis=1)\n",
        "\n",
        "# Calculate the empirical mean and variance of the sample means\n",
        "empirical_mean = np.mean(sample_means)\n",
        "empirical_variance = np.var(sample_means)\n",
        "\n",
        "# Compare the theoretical and empirical values\n",
        "print(f\"Theoretical mean: {theoretical_mean:.4f}\")\n",
        "print(f\"Empirical mean: {empirical_mean:.4f}\")\n",
        "print(f\"\\n\")\n",
        "print(f\"Theoretical variance: {theoretical_variance:.4f}\")\n",
        "print(f\"Empirical variance: {empirical_variance:.4f}\")\n"
      ],
      "metadata": {
        "colab": {
          "base_uri": "https://localhost:8080/"
        },
        "id": "Wczh1MGWrKu-",
        "outputId": "bb0c4e29-80f8-4846-ae7a-cbd46afb1b82"
      },
      "execution_count": null,
      "outputs": [
        {
          "output_type": "stream",
          "name": "stdout",
          "text": [
            "Theoretical mean: 2.0000\n",
            "Empirical mean: 2.0009\n",
            "\n",
            "\n",
            "Theoretical variance: 2.0000\n",
            "Empirical variance: 0.0395\n"
          ]
        }
      ]
    },
    {
      "cell_type": "code",
      "source": [
        "2.0000/50"
      ],
      "metadata": {
        "colab": {
          "base_uri": "https://localhost:8080/"
        },
        "id": "mng5NEYU4M5M",
        "outputId": "33703bb3-7ed9-47c1-930f-f9120e690282"
      },
      "execution_count": null,
      "outputs": [
        {
          "output_type": "execute_result",
          "data": {
            "text/plain": [
              "0.04"
            ]
          },
          "metadata": {},
          "execution_count": 44
        }
      ]
    },
    {
      "cell_type": "code",
      "source": [
        "# CLT Demo Log Normal Distribution"
      ],
      "metadata": {
        "id": "1dMCwb8Os6jT"
      },
      "execution_count": null,
      "outputs": []
    },
    {
      "cell_type": "code",
      "source": [
        "import numpy as np\n",
        "\n",
        "# Set the parameters\n",
        "num_samples = 10000\n",
        "sample_size = 50\n",
        "\n",
        "# Log-Normal distribution parameters\n",
        "mu = 0.5\n",
        "sigma = 0.7\n",
        "\n",
        "# Calculate the theoretical mean and variance\n",
        "theoretical_mean = np.exp(mu + (sigma ** 2) / 2)\n",
        "theoretical_variance = (np.exp(sigma ** 2) - 1) * np.exp(2 * mu + sigma ** 2)\n",
        "\n",
        "# Generate samples from the Log-Normal distribution\n",
        "samples = np.random.lognormal(mean=mu, sigma=sigma, size=(num_samples, sample_size))\n",
        "\n",
        "# Calculate the sample means\n",
        "sample_means = np.mean(samples, axis=1)\n",
        "\n",
        "# Calculate the empirical mean and variance of the sample means\n",
        "empirical_mean = np.mean(sample_means)\n",
        "empirical_variance = np.var(sample_means)\n",
        "\n",
        "# Compare the theoretical and empirical values\n",
        "print(f\"Theoretical mean: {theoretical_mean:.4f}\")\n",
        "print(f\"Empirical mean: {empirical_mean:.4f}\")\n",
        "print(f\"\\n\")\n",
        "print(f\"Theoretical variance: {theoretical_variance:.4f}\")\n",
        "print(f\"Empirical variance: {empirical_variance:.4f}\")\n"
      ],
      "metadata": {
        "colab": {
          "base_uri": "https://localhost:8080/"
        },
        "id": "ytt83w9ZtOtj",
        "outputId": "5f41fad2-812e-45c4-b376-d7e4b1f7bde1"
      },
      "execution_count": null,
      "outputs": [
        {
          "output_type": "stream",
          "name": "stdout",
          "text": [
            "Theoretical mean: 2.1064\n",
            "Empirical mean: 2.1028\n",
            "\n",
            "\n",
            "Theoretical variance: 2.8056\n",
            "Empirical variance: 0.0560\n"
          ]
        }
      ]
    },
    {
      "cell_type": "code",
      "source": [],
      "metadata": {
        "id": "EJyIyvBrtdBc"
      },
      "execution_count": null,
      "outputs": []
    },
    {
      "cell_type": "code",
      "source": [
        "# CLT Case Study"
      ],
      "metadata": {
        "id": "fAJUPbqD7Vyo"
      },
      "execution_count": null,
      "outputs": []
    },
    {
      "cell_type": "code",
      "source": [
        "import numpy as np\n",
        "\n",
        "# Set the parameters\n",
        "population_size = 100000\n",
        "sample_size = 50\n",
        "num_samples = 100\n",
        "\n",
        "# Generate a random representative sample of salaries (in thousands)\n",
        "# You should replace this with actual collected salary data\n",
        "np.random.seed(42)  # Setting a seed for reproducibility\n",
        "population_salaries = np.random.lognormal(mean=4.5, sigma=0.8, size=population_size)\n",
        "\n",
        "# Generate multiple samples and calculate the sample means and standard deviations\n",
        "sample_means = []\n",
        "sample_std_devs = []\n",
        "\n",
        "for _ in range(num_samples):\n",
        "  sample_salaries = np.random.choice(population_salaries, size=sample_size)\n",
        "  sample_means.append(np.mean(sample_salaries))\n",
        "  sample_std_devs.append(np.std(sample_salaries))\n",
        "\n",
        "# Calculate the average of the sample means and the standard error\n",
        "average_sample_means = np.mean(sample_means)\n",
        "standard_error = np.std(sample_means) / np.sqrt(num_samples)\n",
        "\n",
        "# Calculate the 95% confidence interval\n",
        "margin_of_error = 1.96 * standard_error\n",
        "lower_limit = average_sample_means - margin_of_error\n",
        "upper_limit = average_sample_means + margin_of_error\n",
        "\n",
        "# Report the results\n",
        "print(f\"Estimated average salary (in thousands): {average_sample_means:.2f}\")\n",
        "print(f\"95% confidence interval (in thousands): ({lower_limit:.2f}, {upper_limit:.2f})\")\n"
      ],
      "metadata": {
        "colab": {
          "base_uri": "https://localhost:8080/"
        },
        "id": "uYZgnbUKvqYO",
        "outputId": "c7445d72-948c-4464-8e34-924f1c398ae8"
      },
      "execution_count": null,
      "outputs": [
        {
          "output_type": "stream",
          "name": "stdout",
          "text": [
            "Estimated average salary (in thousands): 124.74\n",
            "95% confidence interval (in thousands): (121.23, 128.26)\n"
          ]
        }
      ]
    },
    {
      "cell_type": "code",
      "source": [],
      "metadata": {
        "id": "UPfxXKaD7TFf"
      },
      "execution_count": null,
      "outputs": []
    }
  ]
}