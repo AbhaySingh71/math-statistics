{
  "nbformat": 4,
  "nbformat_minor": 0,
  "metadata": {
    "colab": {
      "provenance": [],
      "authorship_tag": "ABX9TyMeyGnIHl4OIiM9o7Fiqxe0",
      "include_colab_link": true
    },
    "kernelspec": {
      "name": "python3",
      "display_name": "Python 3"
    },
    "language_info": {
      "name": "python"
    }
  },
  "cells": [
    {
      "cell_type": "markdown",
      "metadata": {
        "id": "view-in-github",
        "colab_type": "text"
      },
      "source": [
        "<a href=\"https://colab.research.google.com/github/Capedcrusaders/math-statistics/blob/main/linear%20algebra/linear_algebra_1_.ipynb\" target=\"_parent\"><img src=\"https://colab.research.google.com/assets/colab-badge.svg\" alt=\"Open In Colab\"/></a>"
      ]
    },
    {
      "cell_type": "code",
      "execution_count": null,
      "metadata": {
        "colab": {
          "base_uri": "https://localhost:8080/"
        },
        "id": "-VmIe4btda4S",
        "outputId": "0d895cc5-a5fb-4895-de7c-fceab5f10302"
      },
      "outputs": [
        {
          "output_type": "stream",
          "name": "stdout",
          "text": [
            "[3, 2]\n",
            "[3 2]\n",
            "[1 2 3 4 5]\n"
          ]
        }
      ],
      "source": [
        "#declaring a vector in python using a list\n",
        "\n",
        "vector = [3,2]\n",
        "print(vector)\n",
        "\n",
        "#declaring a vector in python using numpy\n",
        "import numpy as np\n",
        "vector1 =np.array([3,2])\n",
        "print(vector1)\n",
        "\n",
        "#declaring a five dimension vector\n",
        "import numpy as np\n",
        "vector2 = np.array([1,2,3,4,5])\n",
        "print(vector2)"
      ]
    },
    {
      "cell_type": "code",
      "source": [
        "#Adding two vector using numpy\n",
        "from numpy import array\n",
        "v = array([3,2])\n",
        "w = array([2,-1])\n",
        "\n",
        "# Sum the vectors\n",
        "v_plus_w = v+w\n",
        "print(v_plus_w) #[5,1]\n"
      ],
      "metadata": {
        "colab": {
          "base_uri": "https://localhost:8080/"
        },
        "id": "HOycnSbjfJaB",
        "outputId": "f7eff8ee-ef0a-4b85-f62e-555245e6cc22"
      },
      "execution_count": null,
      "outputs": [
        {
          "output_type": "stream",
          "name": "stdout",
          "text": [
            "[5 1]\n"
          ]
        }
      ]
    },
    {
      "cell_type": "code",
      "source": [
        "# Scaling a number in python using numpy\n",
        "\n",
        "from numpy import array\n",
        "vec = array([3,1])\n",
        "\n",
        "#scale the vector\n",
        "scaled_vec = 2 * vec\n",
        "print(scaled_vec) #[6,2]"
      ],
      "metadata": {
        "colab": {
          "base_uri": "https://localhost:8080/"
        },
        "id": "mx6wmCzAgP41",
        "outputId": "3ec6a962-65fb-40fb-8139-3782a4c36c36"
      },
      "execution_count": null,
      "outputs": [
        {
          "output_type": "stream",
          "name": "stdout",
          "text": [
            "[6 2]\n"
          ]
        }
      ]
    },
    {
      "cell_type": "code",
      "source": [
        "# MATRIX VECTOR MULTIPICATION IN NUMPY\n",
        "\n",
        "from numpy import array\n",
        "#compose basis matrix with 1-hat and j-hat\n",
        "basis = array(\n",
        "    [[3,0],\n",
        "     [0,2]]\n",
        ")\n",
        "#declare vector m\n",
        "m= array([1,1])\n",
        "#create a new vector\n",
        "#by transformng v with dot product\n",
        "new_m = basis.dot(m)\n",
        "print(new_m) #[3,2]"
      ],
      "metadata": {
        "colab": {
          "base_uri": "https://localhost:8080/"
        },
        "id": "R84Ff8ABire7",
        "outputId": "c1f42f9a-8e1b-403f-acb8-340072d49124"
      },
      "execution_count": null,
      "outputs": [
        {
          "output_type": "stream",
          "name": "stdout",
          "text": [
            "[3 2]\n"
          ]
        }
      ]
    },
    {
      "cell_type": "code",
      "source": [
        "# seprating basis vector and applying them as a transformation & traansforming a vector using numpy\n",
        "\n",
        "from numpy import array\n",
        "#declare i-hat and j-hat\n",
        "i_hat = array([2,0])\n",
        "j_hat = array([0,3])\n",
        "#compose basis matrix with 1-hat and j-hat\n",
        "#also need to transpose rows into columns\n",
        "basis =array([i_hat,j_hat]).transpose() #Fixed typo here\n",
        "\n",
        "#declare vector m\n",
        "m= array([1,1])\n",
        "#create a new vector\n",
        "#by transformng v with dot product\n",
        "new_m = basis.dot(m)\n",
        "print(new_m) #[3,2]"
      ],
      "metadata": {
        "colab": {
          "base_uri": "https://localhost:8080/"
        },
        "id": "ImsWL26MNw52",
        "outputId": "03097d70-5b8e-4350-dc96-634c8f4cb046"
      },
      "execution_count": null,
      "outputs": [
        {
          "output_type": "stream",
          "name": "stdout",
          "text": [
            "[2 3]\n"
          ]
        }
      ]
    },
    {
      "cell_type": "code",
      "source": [
        "# COMBINING TWO TRANSFORMATIONS OR REVERSE OF TRANSFORMATIONS\n",
        "from numpy import array\n",
        "#transportaion 1\n",
        "i_hat1 = array([0,1])\n",
        "j_hat1 = array([-1,0])\n",
        "transform1=array([i_hat1,j_hat1]).transpose()\n",
        "\n",
        "#transportaion 2\n",
        "i_hat2 = array([1,0])\n",
        "j_hat2 = array([0,1])\n",
        "transform2=array([i_hat2,j_hat2]).transpose()\n",
        "\n",
        "# combine transformtions\n",
        "combined =transform1 @ transform2\n",
        "#test\n",
        "print(\"combined matrix:\\n {}\".format(combined))\n",
        "\n",
        "v=array([1,2])\n",
        "print(combined.dot(v))"
      ],
      "metadata": {
        "colab": {
          "base_uri": "https://localhost:8080/"
        },
        "id": "IEDbtZiHPey9",
        "outputId": "099c6a2c-52a5-455e-a556-5d8e138ce58b"
      },
      "execution_count": null,
      "outputs": [
        {
          "output_type": "stream",
          "name": "stdout",
          "text": [
            "combined matrix:\n",
            " [[ 0 -1]\n",
            " [ 1  0]]\n",
            "[-2  1]\n"
          ]
        }
      ]
    },
    {
      "cell_type": "code",
      "source": [
        "# CALCULATING A DETERMINANT  OR DETERMINAT FOR A SHEAR\n",
        "\"\"\" Determinat describes how much a sample area in vector space changes in scale with linear transformation\"\"\"\n",
        "\n",
        "from numpy.linalg import det\n",
        "from numpy import array\n",
        "\n",
        "i_hat = array([3,0])\n",
        "j_hat = array([0,2])\n",
        "\n",
        "dete = array([i_hat,j_hat]).transpose()\n",
        "determinat = det(dete)\n",
        "print(determinat)\n"
      ],
      "metadata": {
        "colab": {
          "base_uri": "https://localhost:8080/"
        },
        "id": "QCSVtvb1o9v9",
        "outputId": "517724c7-04a5-40d7-cca6-3f9e309b26fd"
      },
      "execution_count": 1,
      "outputs": [
        {
          "output_type": "stream",
          "name": "stdout",
          "text": [
            "6.0\n"
          ]
        }
      ]
    },
    {
      "cell_type": "code",
      "source": [
        "# A DETEMINANT ON A FLIPPED SPACE IS NEGATIVE\n",
        "# A NEGATIVE DETERMINAT\n",
        "\n",
        "from numpy.linalg import det\n",
        "from numpy import array\n",
        "\n",
        "i_hat = array([-2,1])\n",
        "j_hat = array([1,2])\n",
        "\n",
        "deter = array([i_hat,j_hat]).transpose()\n",
        "determinats = det(deter)\n",
        "print(determinats)"
      ],
      "metadata": {
        "colab": {
          "base_uri": "https://localhost:8080/"
        },
        "id": "-sXZxz4uqxUA",
        "outputId": "88a94792-1732-47ce-aaf4-7f119fddd2de"
      },
      "execution_count": 2,
      "outputs": [
        {
          "output_type": "stream",
          "name": "stdout",
          "text": [
            "-5.000000000000001\n"
          ]
        }
      ]
    },
    {
      "cell_type": "code",
      "source": [
        "\"\"\" if you have a determinat 0,thats means all of the spaces has been squished into a lesser dimension.\"\"\"\n",
        "#A DETERMINANT OF LINAER DEPENDANCE IN 2D AND 3D\n",
        "\n",
        "from numpy.linalg import det\n",
        "from numpy import array\n",
        "i_hat = array([-2,1])\n",
        "j_hat = array([3,-1.5])\n",
        "\n",
        "bass = array([i_hat,j_hat]).transpose()\n",
        "determinat1 = det(bass)\n",
        "print(determinat1)"
      ],
      "metadata": {
        "colab": {
          "base_uri": "https://localhost:8080/"
        },
        "id": "YsKRqGiJtC73",
        "outputId": "06a38e31-2320-4e4b-a230-cb7579c51072"
      },
      "execution_count": 3,
      "outputs": [
        {
          "output_type": "stream",
          "name": "stdout",
          "text": [
            "0.0\n"
          ]
        }
      ]
    },
    {
      "cell_type": "markdown",
      "source": [
        "form there we solve the system equation using sumpy and numpy\n"
      ],
      "metadata": {
        "id": "rJpta6oZv1ZV"
      }
    },
    {
      "cell_type": "code",
      "source": [
        "# using sumpy to study the inverse and identity matrix\n",
        "from sympy import Matrix\n",
        "\n",
        "#4x+2y+4z=44\n",
        "#5x+3y+7z=56\n",
        "#9x+3y+6z=72\n",
        "\n",
        "a=Matrix([\n",
        "    [4,2,4],\n",
        "    [5,3,7],\n",
        "    [9,3,6]\n",
        "])\n",
        "#dot product between a and its reverse\n",
        "# will produce identity function\n",
        "inverse =a.inv()\n",
        "identity = inverse*a\n",
        "# now print\n",
        "print(\"inverse: {}\".format(inverse))\n",
        "print(\"identity: {}\".format(identity))"
      ],
      "metadata": {
        "colab": {
          "base_uri": "https://localhost:8080/"
        },
        "id": "IiQCB4wJvz2f",
        "outputId": "1c21514c-23fb-472b-bc0f-d20af31bf2cb"
      },
      "execution_count": 5,
      "outputs": [
        {
          "output_type": "stream",
          "name": "stdout",
          "text": [
            "inverse: Matrix([[-1/2, 0, 1/3], [11/2, -2, -4/3], [-2, 1, 1/3]])\n",
            "identity: Matrix([[1, 0, 0], [0, 1, 0], [0, 0, 1]])\n"
          ]
        }
      ]
    },
    {
      "cell_type": "code",
      "source": [
        "# USING SUMPY TO SOLVE SYSTEM OF EQUATION\n",
        "from numpy import array\n",
        "from numpy.linalg import inv\n",
        "\n",
        "A = array([\n",
        "    [4,2,4],\n",
        "    [5,3,7],\n",
        "    [9,3,6]\n",
        "])\n",
        "\n",
        "B= array([\n",
        "    44,\n",
        "    56,\n",
        "    72\n",
        "])\n",
        "X=inv(A).dot(B)\n",
        "print(X)"
      ],
      "metadata": {
        "colab": {
          "base_uri": "https://localhost:8080/"
        },
        "id": "UJe2HFxVyZYM",
        "outputId": "1c6f5d81-c0f4-424e-d920-6a708f25904c"
      },
      "execution_count": 6,
      "outputs": [
        {
          "output_type": "stream",
          "name": "stdout",
          "text": [
            "[ 2. 34. -8.]\n"
          ]
        }
      ]
    },
    {
      "cell_type": "code",
      "source": [
        "#using sympy to solve system of equation\n",
        "from sympy import Matrix\n",
        "from sympy.abc import x,y,z\n",
        "\n",
        "a=Matrix([\n",
        "    [4,2,4],\n",
        "    [5,3,7],\n",
        "    [9,3,6]\n",
        "])\n",
        "b=Matrix([44,56,72])\n",
        "x=a.inv()*b\n",
        "print(x)\n"
      ],
      "metadata": {
        "colab": {
          "base_uri": "https://localhost:8080/"
        },
        "id": "mltGySz_zQhV",
        "outputId": "8bbbd31c-71f9-42d1-9e23-77e852ae8c5e"
      },
      "execution_count": 7,
      "outputs": [
        {
          "output_type": "stream",
          "name": "stdout",
          "text": [
            "Matrix([[2], [34], [-8]])\n"
          ]
        }
      ]
    },
    {
      "cell_type": "markdown",
      "source": [
        "**eigenvalves and eigenvectors**\n",
        "\n",
        "Eigenvalues are the special set of scalar values that is associated with the set of linear equations most probably in the matrix equations. The eigenvectors are also termed as characteristic roots. It is a non-zero vector that can be changed at most by its scalar factor after the application of linear transformations.\n",
        "\n",
        "\n"
      ],
      "metadata": {
        "id": "pUP3QK4s51Lc"
      }
    },
    {
      "cell_type": "code",
      "source": [
        "# performing eigendecomposition in numpy\n",
        "from numpy import array,diag\n",
        "from numpy.linalg import eig ,inv\n",
        "\n",
        "A = array([\n",
        "    [1,2],\n",
        "    [4,5],\n",
        "])\n",
        "eigenvals,eigenvecs = eig(A)\n",
        "print('EIGENVALUES')\n",
        "print(eigenvals)\n",
        "print('\\nEIGENVector')\n",
        "print(eigenvecs)"
      ],
      "metadata": {
        "colab": {
          "base_uri": "https://localhost:8080/"
        },
        "id": "4_IS3Q9A6Ag0",
        "outputId": "52fa8342-9198-42be-dbb8-6db4f2fad68c"
      },
      "execution_count": 8,
      "outputs": [
        {
          "output_type": "stream",
          "name": "stdout",
          "text": [
            "EIGENVALUES\n",
            "[-0.46410162  6.46410162]\n",
            "\n",
            "EIGENVector\n",
            "[[-0.80689822 -0.34372377]\n",
            " [ 0.59069049 -0.9390708 ]]\n"
          ]
        }
      ]
    },
    {
      "cell_type": "code",
      "source": [
        "#decomposing and recomposing a matrix in numpy\n",
        "from numpy import array,diag\n",
        "from numpy.linalg import eig ,inv\n",
        "\n",
        "A = array([\n",
        "    [1,2],\n",
        "    [4,5],\n",
        "])\n",
        "eigenvals,eigenvecs = eig(A)\n",
        "print('EIGENVALUES')\n",
        "print(eigenvals)\n",
        "print('\\nEIGENVector')\n",
        "print(eigenvecs)\n",
        "\n",
        "print(\"\\nREBUILD MATRIX\")\n",
        "Q=eigenvecs\n",
        "R=inv(Q)\n",
        "\n",
        "L=diag(eigenvals)\n",
        "B=Q @ L @ R\n",
        "print(B)\n"
      ],
      "metadata": {
        "colab": {
          "base_uri": "https://localhost:8080/"
        },
        "id": "CPlrvvR_7f-g",
        "outputId": "375c9bc9-7b5e-4c8f-e3eb-4dee0aecf8c9"
      },
      "execution_count": 9,
      "outputs": [
        {
          "output_type": "stream",
          "name": "stdout",
          "text": [
            "EIGENVALUES\n",
            "[-0.46410162  6.46410162]\n",
            "\n",
            "EIGENVector\n",
            "[[-0.80689822 -0.34372377]\n",
            " [ 0.59069049 -0.9390708 ]]\n",
            "\n",
            "REBUILD MATRIX\n",
            "[[1. 2.]\n",
            " [4. 5.]]\n"
          ]
        }
      ]
    }
  ]
}